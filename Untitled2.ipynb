{
 "cells": [
  {
   "cell_type": "markdown",
   "metadata": {},
   "source": [
    "# # Clustering and PCA assignment"
   ]
  },
  {
   "cell_type": "markdown",
   "metadata": {},
   "source": [
    "#### Step 1 :Importing and understanding the data"
   ]
  },
  {
   "cell_type": "code",
   "execution_count": 1,
   "metadata": {},
   "outputs": [],
   "source": [
    "#import all the necessary libraries\n",
    "\n",
    "import pandas as pd\n",
    "import numpy as np\n",
    "import pandas as pd\n",
    "\n",
    "# For Visualisation\n",
    "import matplotlib.pyplot as plt\n",
    "import seaborn as sns\n",
    "%matplotlib inline\n",
    "\n",
    "# To Scale our data\n",
    "from sklearn.preprocessing import scale\n",
    "\n",
    "# To perform KMeans clustering \n",
    "from sklearn.cluster import KMeans\n",
    "\n",
    "# To perform Hierarchical clustering\n",
    "from scipy.cluster.hierarchy import linkage\n",
    "from scipy.cluster.hierarchy import dendrogram\n",
    "from scipy.cluster.hierarchy import cut_tree"
   ]
  },
  {
   "cell_type": "code",
   "execution_count": 2,
   "metadata": {},
   "outputs": [
    {
     "data": {
      "text/html": [
       "<div>\n",
       "<style scoped>\n",
       "    .dataframe tbody tr th:only-of-type {\n",
       "        vertical-align: middle;\n",
       "    }\n",
       "\n",
       "    .dataframe tbody tr th {\n",
       "        vertical-align: top;\n",
       "    }\n",
       "\n",
       "    .dataframe thead th {\n",
       "        text-align: right;\n",
       "    }\n",
       "</style>\n",
       "<table border=\"1\" class=\"dataframe\">\n",
       "  <thead>\n",
       "    <tr style=\"text-align: right;\">\n",
       "      <th></th>\n",
       "      <th>country</th>\n",
       "      <th>child_mort</th>\n",
       "      <th>exports</th>\n",
       "      <th>health</th>\n",
       "      <th>imports</th>\n",
       "      <th>income</th>\n",
       "      <th>inflation</th>\n",
       "      <th>life_expec</th>\n",
       "      <th>total_fer</th>\n",
       "      <th>gdpp</th>\n",
       "    </tr>\n",
       "  </thead>\n",
       "  <tbody>\n",
       "    <tr>\n",
       "      <th>0</th>\n",
       "      <td>Afghanistan</td>\n",
       "      <td>90.2</td>\n",
       "      <td>10.0</td>\n",
       "      <td>7.58</td>\n",
       "      <td>44.9</td>\n",
       "      <td>1610</td>\n",
       "      <td>9.44</td>\n",
       "      <td>56.2</td>\n",
       "      <td>5.82</td>\n",
       "      <td>553</td>\n",
       "    </tr>\n",
       "    <tr>\n",
       "      <th>1</th>\n",
       "      <td>Albania</td>\n",
       "      <td>16.6</td>\n",
       "      <td>28.0</td>\n",
       "      <td>6.55</td>\n",
       "      <td>48.6</td>\n",
       "      <td>9930</td>\n",
       "      <td>4.49</td>\n",
       "      <td>76.3</td>\n",
       "      <td>1.65</td>\n",
       "      <td>4090</td>\n",
       "    </tr>\n",
       "    <tr>\n",
       "      <th>2</th>\n",
       "      <td>Algeria</td>\n",
       "      <td>27.3</td>\n",
       "      <td>38.4</td>\n",
       "      <td>4.17</td>\n",
       "      <td>31.4</td>\n",
       "      <td>12900</td>\n",
       "      <td>16.10</td>\n",
       "      <td>76.5</td>\n",
       "      <td>2.89</td>\n",
       "      <td>4460</td>\n",
       "    </tr>\n",
       "    <tr>\n",
       "      <th>3</th>\n",
       "      <td>Angola</td>\n",
       "      <td>119.0</td>\n",
       "      <td>62.3</td>\n",
       "      <td>2.85</td>\n",
       "      <td>42.9</td>\n",
       "      <td>5900</td>\n",
       "      <td>22.40</td>\n",
       "      <td>60.1</td>\n",
       "      <td>6.16</td>\n",
       "      <td>3530</td>\n",
       "    </tr>\n",
       "    <tr>\n",
       "      <th>4</th>\n",
       "      <td>Antigua and Barbuda</td>\n",
       "      <td>10.3</td>\n",
       "      <td>45.5</td>\n",
       "      <td>6.03</td>\n",
       "      <td>58.9</td>\n",
       "      <td>19100</td>\n",
       "      <td>1.44</td>\n",
       "      <td>76.8</td>\n",
       "      <td>2.13</td>\n",
       "      <td>12200</td>\n",
       "    </tr>\n",
       "  </tbody>\n",
       "</table>\n",
       "</div>"
      ],
      "text/plain": [
       "               country  child_mort  exports  health  imports  income  \\\n",
       "0          Afghanistan        90.2     10.0    7.58     44.9    1610   \n",
       "1              Albania        16.6     28.0    6.55     48.6    9930   \n",
       "2              Algeria        27.3     38.4    4.17     31.4   12900   \n",
       "3               Angola       119.0     62.3    2.85     42.9    5900   \n",
       "4  Antigua and Barbuda        10.3     45.5    6.03     58.9   19100   \n",
       "\n",
       "   inflation  life_expec  total_fer   gdpp  \n",
       "0       9.44        56.2       5.82    553  \n",
       "1       4.49        76.3       1.65   4090  \n",
       "2      16.10        76.5       2.89   4460  \n",
       "3      22.40        60.1       6.16   3530  \n",
       "4       1.44        76.8       2.13  12200  "
      ]
     },
     "execution_count": 2,
     "metadata": {},
     "output_type": "execute_result"
    }
   ],
   "source": [
    "# Importing dataset\n",
    "country_data = pd.read_csv(\"Country-data.csv\")\n",
    "country_data.head()"
   ]
  },
  {
   "cell_type": "code",
   "execution_count": 3,
   "metadata": {},
   "outputs": [
    {
     "data": {
      "text/plain": [
       "(167, 10)"
      ]
     },
     "execution_count": 3,
     "metadata": {},
     "output_type": "execute_result"
    }
   ],
   "source": [
    "# Let's check the dimensions of the dataframe\n",
    "country_data.shape"
   ]
  },
  {
   "cell_type": "code",
   "execution_count": 4,
   "metadata": {},
   "outputs": [
    {
     "data": {
      "text/html": [
       "<div>\n",
       "<style scoped>\n",
       "    .dataframe tbody tr th:only-of-type {\n",
       "        vertical-align: middle;\n",
       "    }\n",
       "\n",
       "    .dataframe tbody tr th {\n",
       "        vertical-align: top;\n",
       "    }\n",
       "\n",
       "    .dataframe thead th {\n",
       "        text-align: right;\n",
       "    }\n",
       "</style>\n",
       "<table border=\"1\" class=\"dataframe\">\n",
       "  <thead>\n",
       "    <tr style=\"text-align: right;\">\n",
       "      <th></th>\n",
       "      <th>child_mort</th>\n",
       "      <th>exports</th>\n",
       "      <th>health</th>\n",
       "      <th>imports</th>\n",
       "      <th>income</th>\n",
       "      <th>inflation</th>\n",
       "      <th>life_expec</th>\n",
       "      <th>total_fer</th>\n",
       "      <th>gdpp</th>\n",
       "    </tr>\n",
       "  </thead>\n",
       "  <tbody>\n",
       "    <tr>\n",
       "      <th>count</th>\n",
       "      <td>167.000000</td>\n",
       "      <td>167.000000</td>\n",
       "      <td>167.000000</td>\n",
       "      <td>167.000000</td>\n",
       "      <td>167.000000</td>\n",
       "      <td>167.000000</td>\n",
       "      <td>167.000000</td>\n",
       "      <td>167.000000</td>\n",
       "      <td>167.000000</td>\n",
       "    </tr>\n",
       "    <tr>\n",
       "      <th>mean</th>\n",
       "      <td>38.270060</td>\n",
       "      <td>41.108976</td>\n",
       "      <td>6.815689</td>\n",
       "      <td>46.890215</td>\n",
       "      <td>17144.688623</td>\n",
       "      <td>7.781832</td>\n",
       "      <td>70.555689</td>\n",
       "      <td>2.947964</td>\n",
       "      <td>12964.155689</td>\n",
       "    </tr>\n",
       "    <tr>\n",
       "      <th>std</th>\n",
       "      <td>40.328931</td>\n",
       "      <td>27.412010</td>\n",
       "      <td>2.746837</td>\n",
       "      <td>24.209589</td>\n",
       "      <td>19278.067698</td>\n",
       "      <td>10.570704</td>\n",
       "      <td>8.893172</td>\n",
       "      <td>1.513848</td>\n",
       "      <td>18328.704809</td>\n",
       "    </tr>\n",
       "    <tr>\n",
       "      <th>min</th>\n",
       "      <td>2.600000</td>\n",
       "      <td>0.109000</td>\n",
       "      <td>1.810000</td>\n",
       "      <td>0.065900</td>\n",
       "      <td>609.000000</td>\n",
       "      <td>-4.210000</td>\n",
       "      <td>32.100000</td>\n",
       "      <td>1.150000</td>\n",
       "      <td>231.000000</td>\n",
       "    </tr>\n",
       "    <tr>\n",
       "      <th>25%</th>\n",
       "      <td>8.250000</td>\n",
       "      <td>23.800000</td>\n",
       "      <td>4.920000</td>\n",
       "      <td>30.200000</td>\n",
       "      <td>3355.000000</td>\n",
       "      <td>1.810000</td>\n",
       "      <td>65.300000</td>\n",
       "      <td>1.795000</td>\n",
       "      <td>1330.000000</td>\n",
       "    </tr>\n",
       "    <tr>\n",
       "      <th>50%</th>\n",
       "      <td>19.300000</td>\n",
       "      <td>35.000000</td>\n",
       "      <td>6.320000</td>\n",
       "      <td>43.300000</td>\n",
       "      <td>9960.000000</td>\n",
       "      <td>5.390000</td>\n",
       "      <td>73.100000</td>\n",
       "      <td>2.410000</td>\n",
       "      <td>4660.000000</td>\n",
       "    </tr>\n",
       "    <tr>\n",
       "      <th>75%</th>\n",
       "      <td>62.100000</td>\n",
       "      <td>51.350000</td>\n",
       "      <td>8.600000</td>\n",
       "      <td>58.750000</td>\n",
       "      <td>22800.000000</td>\n",
       "      <td>10.750000</td>\n",
       "      <td>76.800000</td>\n",
       "      <td>3.880000</td>\n",
       "      <td>14050.000000</td>\n",
       "    </tr>\n",
       "    <tr>\n",
       "      <th>max</th>\n",
       "      <td>208.000000</td>\n",
       "      <td>200.000000</td>\n",
       "      <td>17.900000</td>\n",
       "      <td>174.000000</td>\n",
       "      <td>125000.000000</td>\n",
       "      <td>104.000000</td>\n",
       "      <td>82.800000</td>\n",
       "      <td>7.490000</td>\n",
       "      <td>105000.000000</td>\n",
       "    </tr>\n",
       "  </tbody>\n",
       "</table>\n",
       "</div>"
      ],
      "text/plain": [
       "       child_mort     exports      health     imports         income  \\\n",
       "count  167.000000  167.000000  167.000000  167.000000     167.000000   \n",
       "mean    38.270060   41.108976    6.815689   46.890215   17144.688623   \n",
       "std     40.328931   27.412010    2.746837   24.209589   19278.067698   \n",
       "min      2.600000    0.109000    1.810000    0.065900     609.000000   \n",
       "25%      8.250000   23.800000    4.920000   30.200000    3355.000000   \n",
       "50%     19.300000   35.000000    6.320000   43.300000    9960.000000   \n",
       "75%     62.100000   51.350000    8.600000   58.750000   22800.000000   \n",
       "max    208.000000  200.000000   17.900000  174.000000  125000.000000   \n",
       "\n",
       "        inflation  life_expec   total_fer           gdpp  \n",
       "count  167.000000  167.000000  167.000000     167.000000  \n",
       "mean     7.781832   70.555689    2.947964   12964.155689  \n",
       "std     10.570704    8.893172    1.513848   18328.704809  \n",
       "min     -4.210000   32.100000    1.150000     231.000000  \n",
       "25%      1.810000   65.300000    1.795000    1330.000000  \n",
       "50%      5.390000   73.100000    2.410000    4660.000000  \n",
       "75%     10.750000   76.800000    3.880000   14050.000000  \n",
       "max    104.000000   82.800000    7.490000  105000.000000  "
      ]
     },
     "execution_count": 4,
     "metadata": {},
     "output_type": "execute_result"
    }
   ],
   "source": [
    "# let's look at the statistical aspects of the dataframe\n",
    "country_data.describe()"
   ]
  },
  {
   "cell_type": "code",
   "execution_count": 5,
   "metadata": {},
   "outputs": [
    {
     "name": "stdout",
     "output_type": "stream",
     "text": [
      "<class 'pandas.core.frame.DataFrame'>\n",
      "RangeIndex: 167 entries, 0 to 166\n",
      "Data columns (total 10 columns):\n",
      "country       167 non-null object\n",
      "child_mort    167 non-null float64\n",
      "exports       167 non-null float64\n",
      "health        167 non-null float64\n",
      "imports       167 non-null float64\n",
      "income        167 non-null int64\n",
      "inflation     167 non-null float64\n",
      "life_expec    167 non-null float64\n",
      "total_fer     167 non-null float64\n",
      "gdpp          167 non-null int64\n",
      "dtypes: float64(7), int64(2), object(1)\n",
      "memory usage: 13.1+ KB\n"
     ]
    }
   ],
   "source": [
    "# Let's see the type of each column\n",
    "country_data.info()"
   ]
  },
  {
   "cell_type": "markdown",
   "metadata": {},
   "source": [
    "All the variables are numeric and there is no missing values in columns"
   ]
  },
  {
   "cell_type": "markdown",
   "metadata": {},
   "source": [
    "### Let's begin with analysis part "
   ]
  },
  {
   "cell_type": "markdown",
   "metadata": {},
   "source": [
    "#### 1. Principal Component Analysis"
   ]
  },
  {
   "cell_type": "code",
   "execution_count": 6,
   "metadata": {},
   "outputs": [],
   "source": [
    "#copying df to another df for pca\n",
    "country_data_pca = country_data\n"
   ]
  },
  {
   "cell_type": "code",
   "execution_count": 7,
   "metadata": {},
   "outputs": [
    {
     "data": {
      "text/html": [
       "<div>\n",
       "<style scoped>\n",
       "    .dataframe tbody tr th:only-of-type {\n",
       "        vertical-align: middle;\n",
       "    }\n",
       "\n",
       "    .dataframe tbody tr th {\n",
       "        vertical-align: top;\n",
       "    }\n",
       "\n",
       "    .dataframe thead th {\n",
       "        text-align: right;\n",
       "    }\n",
       "</style>\n",
       "<table border=\"1\" class=\"dataframe\">\n",
       "  <thead>\n",
       "    <tr style=\"text-align: right;\">\n",
       "      <th></th>\n",
       "      <th>child_mort</th>\n",
       "      <th>exports</th>\n",
       "      <th>health</th>\n",
       "      <th>imports</th>\n",
       "      <th>income</th>\n",
       "      <th>inflation</th>\n",
       "      <th>life_expec</th>\n",
       "      <th>total_fer</th>\n",
       "      <th>gdpp</th>\n",
       "    </tr>\n",
       "  </thead>\n",
       "  <tbody>\n",
       "    <tr>\n",
       "      <th>0</th>\n",
       "      <td>90.2</td>\n",
       "      <td>10.0</td>\n",
       "      <td>7.58</td>\n",
       "      <td>44.9</td>\n",
       "      <td>1610</td>\n",
       "      <td>9.44</td>\n",
       "      <td>56.2</td>\n",
       "      <td>5.82</td>\n",
       "      <td>553</td>\n",
       "    </tr>\n",
       "    <tr>\n",
       "      <th>1</th>\n",
       "      <td>16.6</td>\n",
       "      <td>28.0</td>\n",
       "      <td>6.55</td>\n",
       "      <td>48.6</td>\n",
       "      <td>9930</td>\n",
       "      <td>4.49</td>\n",
       "      <td>76.3</td>\n",
       "      <td>1.65</td>\n",
       "      <td>4090</td>\n",
       "    </tr>\n",
       "    <tr>\n",
       "      <th>2</th>\n",
       "      <td>27.3</td>\n",
       "      <td>38.4</td>\n",
       "      <td>4.17</td>\n",
       "      <td>31.4</td>\n",
       "      <td>12900</td>\n",
       "      <td>16.10</td>\n",
       "      <td>76.5</td>\n",
       "      <td>2.89</td>\n",
       "      <td>4460</td>\n",
       "    </tr>\n",
       "    <tr>\n",
       "      <th>3</th>\n",
       "      <td>119.0</td>\n",
       "      <td>62.3</td>\n",
       "      <td>2.85</td>\n",
       "      <td>42.9</td>\n",
       "      <td>5900</td>\n",
       "      <td>22.40</td>\n",
       "      <td>60.1</td>\n",
       "      <td>6.16</td>\n",
       "      <td>3530</td>\n",
       "    </tr>\n",
       "    <tr>\n",
       "      <th>4</th>\n",
       "      <td>10.3</td>\n",
       "      <td>45.5</td>\n",
       "      <td>6.03</td>\n",
       "      <td>58.9</td>\n",
       "      <td>19100</td>\n",
       "      <td>1.44</td>\n",
       "      <td>76.8</td>\n",
       "      <td>2.13</td>\n",
       "      <td>12200</td>\n",
       "    </tr>\n",
       "  </tbody>\n",
       "</table>\n",
       "</div>"
      ],
      "text/plain": [
       "   child_mort  exports  health  imports  income  inflation  life_expec  \\\n",
       "0        90.2     10.0    7.58     44.9    1610       9.44        56.2   \n",
       "1        16.6     28.0    6.55     48.6    9930       4.49        76.3   \n",
       "2        27.3     38.4    4.17     31.4   12900      16.10        76.5   \n",
       "3       119.0     62.3    2.85     42.9    5900      22.40        60.1   \n",
       "4        10.3     45.5    6.03     58.9   19100       1.44        76.8   \n",
       "\n",
       "   total_fer   gdpp  \n",
       "0       5.82    553  \n",
       "1       1.65   4090  \n",
       "2       2.89   4460  \n",
       "3       6.16   3530  \n",
       "4       2.13  12200  "
      ]
     },
     "execution_count": 7,
     "metadata": {},
     "output_type": "execute_result"
    }
   ],
   "source": [
    "#droping column 'country' as other variaables are continues values\n",
    "country_data_pca.drop(['country'],axis = 1,inplace = True )\n",
    "country_data_pca.head()"
   ]
  },
  {
   "cell_type": "code",
   "execution_count": 8,
   "metadata": {},
   "outputs": [],
   "source": [
    "## First let us see if we can explain the dataset using fewer variables\n",
    "from sklearn.preprocessing import StandardScaler\n",
    "standard_scaler = StandardScaler()\n",
    "country_data_pca = standard_scaler.fit_transform(country_data_pca)"
   ]
  },
  {
   "cell_type": "code",
   "execution_count": 9,
   "metadata": {},
   "outputs": [],
   "source": [
    "#Importing the PCA module\n",
    "from sklearn.decomposition import PCA\n",
    "pca = PCA(svd_solver='randomized', random_state=42)"
   ]
  },
  {
   "cell_type": "code",
   "execution_count": 10,
   "metadata": {},
   "outputs": [
    {
     "data": {
      "text/plain": [
       "array([[ 1.29153238, -1.13827979,  0.27908825, ..., -1.61909203,\n",
       "         1.90288227, -0.67917961],\n",
       "       [-0.5389489 , -0.47965843, -0.09701618, ...,  0.64786643,\n",
       "        -0.85997281, -0.48562324],\n",
       "       [-0.27283273, -0.09912164, -0.96607302, ...,  0.67042323,\n",
       "        -0.0384044 , -0.46537561],\n",
       "       ...,\n",
       "       [-0.37231541,  1.13030491,  0.0088773 , ...,  0.28695762,\n",
       "        -0.66120626, -0.63775406],\n",
       "       [ 0.44841668, -0.40647827, -0.59727159, ..., -0.34463279,\n",
       "         1.14094382, -0.63775406],\n",
       "       [ 1.11495062, -0.15034774, -0.33801514, ..., -2.09278484,\n",
       "         1.6246091 , -0.62954556]])"
      ]
     },
     "execution_count": 10,
     "metadata": {},
     "output_type": "execute_result"
    }
   ],
   "source": [
    "country_data_pca"
   ]
  },
  {
   "cell_type": "code",
   "execution_count": 11,
   "metadata": {},
   "outputs": [],
   "source": [
    "#Importing the PCA module\n",
    "from sklearn.decomposition import PCA\n",
    "pca = PCA(svd_solver='randomized', random_state=42)"
   ]
  },
  {
   "cell_type": "code",
   "execution_count": 12,
   "metadata": {},
   "outputs": [
    {
     "data": {
      "text/plain": [
       "PCA(copy=True, iterated_power='auto', n_components=None, random_state=42,\n",
       "  svd_solver='randomized', tol=0.0, whiten=False)"
      ]
     },
     "execution_count": 12,
     "metadata": {},
     "output_type": "execute_result"
    }
   ],
   "source": [
    "#Performing the PCA\n",
    "pca.fit(country_data_pca)\n"
   ]
  },
  {
   "cell_type": "code",
   "execution_count": 13,
   "metadata": {},
   "outputs": [
    {
     "data": {
      "text/plain": [
       "array([[-0.41951945,  0.28389698,  0.15083782,  0.16148244,  0.39844111,\n",
       "        -0.19317293,  0.42583938, -0.40372896,  0.39264482],\n",
       "       [ 0.19288394,  0.61316349, -0.24308678,  0.67182064,  0.02253553,\n",
       "        -0.00840447, -0.22270674,  0.15523311, -0.0460224 ],\n",
       "       [-0.02954353,  0.14476069, -0.59663237, -0.29992674,  0.3015475 ,\n",
       "         0.64251951,  0.11391854,  0.01954925,  0.12297749],\n",
       "       [ 0.37065326,  0.00309102,  0.4618975 , -0.07190746,  0.39215904,\n",
       "         0.15044176, -0.20379723,  0.37830365,  0.53199457],\n",
       "       [-0.16896968,  0.05761584,  0.51800037,  0.25537642, -0.2471496 ,\n",
       "         0.7148691 ,  0.1082198 , -0.13526221, -0.18016662],\n",
       "       [ 0.20062815, -0.05933283,  0.00727646, -0.03003154,  0.16034699,\n",
       "         0.06628537, -0.60112652, -0.75068875,  0.01677876],\n",
       "       [-0.07948854, -0.70730269, -0.24983051,  0.59218953,  0.09556237,\n",
       "         0.10463252,  0.01848639,  0.02882643,  0.24299776],\n",
       "       [-0.68274306, -0.01419742,  0.07249683, -0.02894642,  0.35262369,\n",
       "        -0.01153775, -0.50466425,  0.29335267, -0.24969636],\n",
       "       [ 0.3275418 , -0.12308207,  0.11308797,  0.09903717,  0.61298247,\n",
       "        -0.02523614,  0.29403981, -0.02633585, -0.62564572]])"
      ]
     },
     "execution_count": 13,
     "metadata": {},
     "output_type": "execute_result"
    }
   ],
   "source": [
    "#List of PCA components.\n",
    "pca.components_"
   ]
  },
  {
   "cell_type": "code",
   "execution_count": null,
   "metadata": {},
   "outputs": [],
   "source": []
  },
  {
   "cell_type": "code",
   "execution_count": 14,
   "metadata": {},
   "outputs": [
    {
     "data": {
      "text/plain": [
       "array([[ 1.29153238, -1.13827979,  0.27908825, ..., -1.61909203,\n",
       "         1.90288227, -0.67917961],\n",
       "       [-0.5389489 , -0.47965843, -0.09701618, ...,  0.64786643,\n",
       "        -0.85997281, -0.48562324],\n",
       "       [-0.27283273, -0.09912164, -0.96607302, ...,  0.67042323,\n",
       "        -0.0384044 , -0.46537561],\n",
       "       ...,\n",
       "       [-0.37231541,  1.13030491,  0.0088773 , ...,  0.28695762,\n",
       "        -0.66120626, -0.63775406],\n",
       "       [ 0.44841668, -0.40647827, -0.59727159, ..., -0.34463279,\n",
       "         1.14094382, -0.63775406],\n",
       "       [ 1.11495062, -0.15034774, -0.33801514, ..., -2.09278484,\n",
       "         1.6246091 , -0.62954556]])"
      ]
     },
     "execution_count": 14,
     "metadata": {},
     "output_type": "execute_result"
    }
   ],
   "source": [
    "country_data_pca\n"
   ]
  },
  {
   "cell_type": "code",
   "execution_count": 15,
   "metadata": {},
   "outputs": [
    {
     "data": {
      "text/plain": [
       "array([0.4595174 , 0.17181626, 0.13004259, 0.11053162, 0.07340211,\n",
       "       0.02484235, 0.0126043 , 0.00981282, 0.00743056])"
      ]
     },
     "execution_count": 15,
     "metadata": {},
     "output_type": "execute_result"
    }
   ],
   "source": [
    "#Let's check the variance ratios\n",
    "pca.explained_variance_ratio_"
   ]
  },
  {
   "cell_type": "code",
   "execution_count": 16,
   "metadata": {},
   "outputs": [
    {
     "data": {
      "image/png": "[encoded data removed]",
      "text/plain": [
       "<Figure size 864x576 with 1 Axes>"
      ]
     },
     "metadata": {
      "needs_background": "light"
     },
     "output_type": "display_data"
    }
   ],
   "source": [
    "#Plotting the scree plot\n",
    "%matplotlib inline\n",
    "fig = plt.figure(figsize = (12,8))\n",
    "plt.plot(np.cumsum(pca.explained_variance_ratio_))\n",
    "plt.xlabel('number of components')\n",
    "plt.ylabel('cumulative explained variance')\n",
    "plt.show()\n",
    "fig.savefig('Variance.png')"
   ]
  },
  {
   "cell_type": "markdown",
   "metadata": {},
   "source": [
    "Around 95% of the information is being explained by 5  components"
   ]
  },
  {
   "cell_type": "code",
   "execution_count": 17,
   "metadata": {},
   "outputs": [
    {
     "data": {
      "text/html": [
       "<div>\n",
       "<style scoped>\n",
       "    .dataframe tbody tr th:only-of-type {\n",
       "        vertical-align: middle;\n",
       "    }\n",
       "\n",
       "    .dataframe tbody tr th {\n",
       "        vertical-align: top;\n",
       "    }\n",
       "\n",
       "    .dataframe thead th {\n",
       "        text-align: right;\n",
       "    }\n",
       "</style>\n",
       "<table border=\"1\" class=\"dataframe\">\n",
       "  <thead>\n",
       "    <tr style=\"text-align: right;\">\n",
       "      <th></th>\n",
       "      <th>Feature</th>\n",
       "      <th>PC1</th>\n",
       "      <th>PC2</th>\n",
       "    </tr>\n",
       "  </thead>\n",
       "  <tbody>\n",
       "    <tr>\n",
       "      <th>0</th>\n",
       "      <td>child_mort</td>\n",
       "      <td>-0.419519</td>\n",
       "      <td>0.192884</td>\n",
       "    </tr>\n",
       "    <tr>\n",
       "      <th>1</th>\n",
       "      <td>exports</td>\n",
       "      <td>0.283897</td>\n",
       "      <td>0.613163</td>\n",
       "    </tr>\n",
       "    <tr>\n",
       "      <th>2</th>\n",
       "      <td>health</td>\n",
       "      <td>0.150838</td>\n",
       "      <td>-0.243087</td>\n",
       "    </tr>\n",
       "    <tr>\n",
       "      <th>3</th>\n",
       "      <td>imports</td>\n",
       "      <td>0.161482</td>\n",
       "      <td>0.671821</td>\n",
       "    </tr>\n",
       "    <tr>\n",
       "      <th>4</th>\n",
       "      <td>income</td>\n",
       "      <td>0.398441</td>\n",
       "      <td>0.022536</td>\n",
       "    </tr>\n",
       "    <tr>\n",
       "      <th>5</th>\n",
       "      <td>inflation</td>\n",
       "      <td>-0.193173</td>\n",
       "      <td>-0.008404</td>\n",
       "    </tr>\n",
       "    <tr>\n",
       "      <th>6</th>\n",
       "      <td>life_expec</td>\n",
       "      <td>0.425839</td>\n",
       "      <td>-0.222707</td>\n",
       "    </tr>\n",
       "    <tr>\n",
       "      <th>7</th>\n",
       "      <td>total_fer</td>\n",
       "      <td>-0.403729</td>\n",
       "      <td>0.155233</td>\n",
       "    </tr>\n",
       "    <tr>\n",
       "      <th>8</th>\n",
       "      <td>gdpp</td>\n",
       "      <td>0.392645</td>\n",
       "      <td>-0.046022</td>\n",
       "    </tr>\n",
       "  </tbody>\n",
       "</table>\n",
       "</div>"
      ],
      "text/plain": [
       "      Feature       PC1       PC2\n",
       "0  child_mort -0.419519  0.192884\n",
       "1     exports  0.283897  0.613163\n",
       "2      health  0.150838 -0.243087\n",
       "3     imports  0.161482  0.671821\n",
       "4      income  0.398441  0.022536\n",
       "5   inflation -0.193173 -0.008404\n",
       "6  life_expec  0.425839 -0.222707\n",
       "7   total_fer -0.403729  0.155233\n",
       "8        gdpp  0.392645 -0.046022"
      ]
     },
     "execution_count": 17,
     "metadata": {},
     "output_type": "execute_result"
    }
   ],
   "source": [
    "#Understanding how the original 5 variables are loaded on the principal components. It can be verified from above as well.\n",
    "colnames = list(country_data.columns)\n",
    "pcs_df = pd.DataFrame({ 'Feature':colnames,'PC1':pca.components_[0],'PC2':pca.components_[1]})\n",
    "pcs_df"
   ]
  },
  {
   "cell_type": "code",
   "execution_count": 18,
   "metadata": {},
   "outputs": [
    {
     "data": {
      "image/png": "[encoded data removed]",
      "text/plain": [
       "<Figure size 576x576 with 1 Axes>"
      ]
     },
     "metadata": {
      "needs_background": "light"
     },
     "output_type": "display_data"
    }
   ],
   "source": [
    "# Let's plot them to visualise how these features are loaded\n",
    "%matplotlib inline\n",
    "fig = plt.figure(figsize = (8,8))\n",
    "plt.scatter(pcs_df.PC1, pcs_df.PC2)\n",
    "plt.xlabel('Principal Component 1')\n",
    "plt.ylabel('Principal Component 2')\n",
    "for i, txt in enumerate(pcs_df.Feature):\n",
    "    plt.annotate(txt, (pcs_df.PC1[i],pcs_df.PC2[i]))\n",
    "plt.tight_layout()\n",
    "plt.show()"
   ]
  },
  {
   "cell_type": "code",
   "execution_count": 19,
   "metadata": {},
   "outputs": [],
   "source": [
    "#Finally let's go ahead and do dimenstionality reduction using the two Principal Components\n",
    "from sklearn.decomposition import IncrementalPCA\n",
    "pca_final = IncrementalPCA(n_components=5)"
   ]
  },
  {
   "cell_type": "code",
   "execution_count": 20,
   "metadata": {},
   "outputs": [
    {
     "data": {
      "text/plain": [
       "(167, 5)"
      ]
     },
     "execution_count": 20,
     "metadata": {},
     "output_type": "execute_result"
    }
   ],
   "source": [
    "df_pca = pca_final.fit_transform(country_data_pca)\n",
    "df_pca.shape"
   ]
  },
  {
   "cell_type": "code",
   "execution_count": 21,
   "metadata": {},
   "outputs": [
    {
     "data": {
      "text/plain": [
       "array([[-2.91299992e+00,  9.19694483e-02, -7.21242475e-01,\n",
       "         1.00183771e+00, -1.46764708e-01],\n",
       "       [ 4.29869882e-01, -5.89373005e-01, -3.28611009e-01,\n",
       "        -1.16501385e+00,  1.53205240e-01],\n",
       "       [-2.85288747e-01, -4.52138721e-01,  1.23205055e+00,\n",
       "        -8.57767020e-01,  1.91227155e-01],\n",
       "       [-2.93271361e+00,  1.69877055e+00,  1.52507602e+00,\n",
       "         8.55595497e-01, -2.14777969e-01],\n",
       "       [ 1.03337146e+00,  1.33852736e-01, -2.16699200e-01,\n",
       "        -8.46637655e-01, -1.93186250e-01],\n",
       "       [ 2.28903436e-02, -1.77273550e+00,  8.64499533e-01,\n",
       "        -3.67466174e-02,  9.97895254e-01],\n",
       "       [-1.01463164e-01, -5.67317984e-01,  2.48106950e-01,\n",
       "        -1.46602345e+00, -8.58319260e-02],\n",
       "       [ 2.34215326e+00, -1.98970971e+00,  1.98795068e-01,\n",
       "         1.11341263e+00, -7.10653789e-01],\n",
       "       [ 2.97384111e+00, -7.35152104e-01, -5.28284369e-01,\n",
       "         1.20110137e+00,  8.01665136e-02],\n",
       "       [-1.81302843e-01, -3.96894805e-01,  8.68398935e-01,\n",
       "        -4.35201409e-01,  1.20357259e-01],\n",
       "       [ 1.26873963e+00, -6.58657937e-01, -4.84554953e-01,\n",
       "         5.39449943e-02, -3.98859366e-01],\n",
       "       [ 1.67102427e+00,  5.63934168e-01,  9.97464453e-01,\n",
       "        -1.97912392e-01, -3.78990900e-01],\n",
       "       [-1.12397899e+00, -9.61082778e-01,  5.42963809e-01,\n",
       "        -1.18920365e+00, -6.88348042e-01],\n",
       "       [ 1.08119637e+00, -4.84982560e-01, -6.58991317e-01,\n",
       "        -5.26571013e-01, -8.86188668e-03],\n",
       "       [ 5.80574302e-01,  5.41405042e-01,  4.71986455e-01,\n",
       "        -1.04208482e+00,  7.84711773e-01],\n",
       "       [ 3.14375619e+00,  6.62482052e-01, -6.59854636e-01,\n",
       "         1.08764423e+00,  4.45979035e-01],\n",
       "       [ 2.10907505e-01,  6.95633425e-01, -2.61730632e-01,\n",
       "        -1.09424373e+00, -2.85266154e-01],\n",
       "       [-2.67300470e+00,  4.11199072e-01, -2.37232121e-01,\n",
       "         2.89667936e-01, -1.41185393e+00],\n",
       "       [-1.56696054e-01,  7.76113252e-01, -2.79266136e-01,\n",
       "        -1.04272371e+00,  9.75844361e-02],\n",
       "       [-7.94150509e-01, -1.20997052e-01,  4.14131931e-01,\n",
       "        -7.17824334e-01, -2.06041454e-01],\n",
       "       [ 9.95908594e-01, -9.74805774e-01, -1.53407143e+00,\n",
       "        -6.38487819e-01,  9.00375072e-01],\n",
       "       [-8.81575681e-01,  4.60255797e-01, -6.02232240e-01,\n",
       "         3.94024308e-01,  2.48934163e-01],\n",
       "       [ 1.41006684e-01, -2.14963065e+00, -1.69566628e-01,\n",
       "        -1.70219648e-01,  2.84365783e-01],\n",
       "       [ 2.46067532e+00,  2.82792015e-02,  3.02254870e+00,\n",
       "         8.01235872e-01, -1.01543030e+00],\n",
       "       [ 9.06504214e-01,  2.87277295e-02, -4.65601469e-01,\n",
       "        -9.99039157e-01, -1.89482014e-02],\n",
       "       [-3.12242958e+00,  3.41318479e-02, -4.48309279e-01,\n",
       "         1.08525589e+00, -7.05787992e-01],\n",
       "       [-2.89891128e+00, -4.26693503e-01, -1.36008579e+00,\n",
       "         1.80978172e+00,  7.42353358e-01],\n",
       "       [-5.82622058e-01,  8.92420216e-01, -4.94662141e-01,\n",
       "        -8.08601249e-01, -1.56297507e-01],\n",
       "       [-2.80833175e+00,  7.37051932e-02, -3.27757334e-01,\n",
       "         5.51091673e-01, -1.31392894e+00],\n",
       "       [ 2.54377573e+00, -1.72735691e+00, -4.01760072e-01,\n",
       "         1.33443430e+00,  7.04552786e-02],\n",
       "       [-1.56104788e-01,  3.46725943e-01, -2.77912049e-01,\n",
       "        -1.34177861e+00, -5.38942605e-01],\n",
       "       [-3.96515838e+00,  3.83684746e-01, -3.17098959e-01,\n",
       "         9.24644785e-01, -1.87171423e+00],\n",
       "       [-3.55824937e+00,  1.28368433e+00, -9.38996508e-02,\n",
       "         1.21920295e+00, -1.19388863e+00],\n",
       "       [ 9.51656073e-01, -1.07539028e+00,  1.55563242e-01,\n",
       "        -4.36591423e-01,  4.32359645e-01],\n",
       "       [ 5.74753018e-02, -1.18883740e+00,  4.41723153e-01,\n",
       "        -1.27265124e+00, -2.42616215e-01],\n",
       "       [ 1.21020692e-01, -1.77074113e+00, -2.30758621e-01,\n",
       "        -7.14390556e-01, -9.58410375e-02],\n",
       "       [-2.09401880e+00,  3.37787474e-01, -3.16710091e-01,\n",
       "        -1.13608041e-01, -7.95839364e-01],\n",
       "       [-3.17342051e+00,  1.05087981e+00, -1.63410227e-02,\n",
       "         1.57262513e+00,  6.93080630e-01],\n",
       "       [-1.72575439e+00,  2.18087468e+00,  1.49344977e+00,\n",
       "        -1.26988656e-01,  1.15642914e-01],\n",
       "       [ 9.37737821e-01, -1.35210885e+00, -8.21288718e-01,\n",
       "        -2.69325414e-01,  9.89464820e-01],\n",
       "       [-2.58213226e+00,  1.20457403e+00, -2.26754982e-01,\n",
       "         6.70365244e-01, -8.46253890e-01],\n",
       "       [ 1.14879637e+00, -8.46517178e-01, -4.00903642e-01,\n",
       "        -6.25046894e-01, -1.17320181e-01],\n",
       "       [ 2.17440691e+00, -4.71708491e-03,  2.61252498e-01,\n",
       "        -3.07912297e-01, -4.22070093e-01],\n",
       "       [ 2.05308311e+00,  4.20868833e-01, -5.40332595e-01,\n",
       "        -4.15479675e-01, -6.35007501e-02],\n",
       "       [ 3.01064195e+00, -8.65284500e-01, -3.47129034e-01,\n",
       "         1.78475498e+00,  1.13204205e-01],\n",
       "       [-2.31280333e-01, -8.82440867e-01, -2.50716663e-02,\n",
       "        -6.50734450e-01, -2.02160852e-01],\n",
       "       [ 9.44562646e-03, -1.04699064e+00, -2.65293953e-01,\n",
       "        -4.89875075e-01,  3.89733350e-01],\n",
       "       [-8.48190862e-01, -8.19519318e-01,  5.97770718e-01,\n",
       "        -7.37765294e-01, -2.79433575e-01],\n",
       "       [ 8.17296557e-02, -5.70935914e-01, -5.67211188e-01,\n",
       "        -9.80210075e-01,  3.60111747e-02],\n",
       "       [-1.29326387e+00,  2.37201687e+00,  1.75896172e+00,\n",
       "         1.74829314e+00,  9.18828993e-02],\n",
       "       [-2.47466417e+00, -6.18449501e-01,  8.21210257e-01,\n",
       "        -4.75887511e-01, -8.37692763e-01],\n",
       "       [ 1.65888622e+00,  1.02042827e+00, -1.06820046e-01,\n",
       "        -8.64010570e-01, -3.12606773e-02],\n",
       "       [-1.88839305e-01,  1.07088718e+00, -1.87079511e-01,\n",
       "        -9.82159285e-01, -1.80193479e-01],\n",
       "       [ 2.45893810e+00, -1.07756805e+00, -9.68980827e-02,\n",
       "         9.02880749e-01, -4.53488842e-01],\n",
       "       [ 2.25427195e+00, -1.86908554e+00, -7.12034312e-01,\n",
       "         1.22673062e+00,  1.25576011e-01],\n",
       "       [-1.42171558e+00,  3.24592383e-01,  1.54687885e+00,\n",
       "         2.03103399e-01, -4.99567228e-01],\n",
       "       [-2.21426701e+00,  2.16136050e-01, -3.75310396e-01,\n",
       "         2.97283977e-01, -6.41800657e-01],\n",
       "       [ 3.22159531e-01, -5.18124390e-01, -9.85504604e-01,\n",
       "        -4.82879990e-01,  1.14110863e+00],\n",
       "       [ 2.67152140e+00, -1.27425056e+00, -6.62272763e-01,\n",
       "         1.12051025e+00,  1.37977896e-01],\n",
       "       [-2.05401070e+00,  3.82366348e-01,  4.13181566e-01,\n",
       "         9.19391577e-02,  1.83948421e-01],\n",
       "       [ 1.77951251e+00, -1.76746680e+00, -6.81162361e-01,\n",
       "         2.58244205e-01,  6.99019646e-02],\n",
       "       [ 1.45471908e-01, -4.34458410e-01, -4.60228363e-01,\n",
       "        -9.72883530e-01, -4.06369343e-01],\n",
       "       [-6.63722172e-01, -6.17231820e-01, -3.20734028e-01,\n",
       "        -4.44445017e-01, -8.39810597e-02],\n",
       "       [-2.96956545e+00,  7.29508559e-01,  3.86106918e-01,\n",
       "         6.70772558e-01, -1.82807045e-01],\n",
       "       [-2.83380205e+00, -9.59609140e-02, -1.20662973e+00,\n",
       "         1.12775619e+00, -5.70452318e-01],\n",
       "       [-3.22705098e-01,  1.36063639e+00, -4.78030423e-01,\n",
       "        -8.58237065e-01,  1.24109481e-01],\n",
       "       [-4.40894114e+00,  1.74714888e+00, -1.51217746e+00,\n",
       "         1.77119341e+00, -1.10924377e+00],\n",
       "       [ 1.83912005e+00,  1.27306337e+00, -4.68814972e-01,\n",
       "        -7.87456647e-01,  3.65312943e-01],\n",
       "       [ 2.48086574e+00, -6.34860149e-01,  1.03015964e-01,\n",
       "         9.22553100e-01,  1.46518764e-01],\n",
       "       [-1.34279857e+00, -5.33472803e-01,  4.78064490e-01,\n",
       "        -7.83252672e-01, -5.49063506e-01],\n",
       "       [-9.54566740e-01, -7.27639065e-01,  1.38704244e+00,\n",
       "        -1.13266835e+00, -3.20451093e-01],\n",
       "       [-7.23935239e-04, -1.32855305e+00,  1.02545266e+00,\n",
       "        -7.50308119e-01,  2.80794594e-01],\n",
       "       [-1.02909667e+00, -2.82051979e-01,  1.90399927e-01,\n",
       "         5.63695275e-01,  7.70225146e-01],\n",
       "       [ 3.66826706e+00,  1.72632221e+00, -5.30388157e-01,\n",
       "         9.88469365e-01, -1.03747288e-01],\n",
       "       [ 1.48496139e+00, -1.05339963e+00,  9.48233906e-02,\n",
       "         3.30187695e-01, -4.26201904e-01],\n",
       "       [ 2.16579780e+00, -1.77397912e+00, -2.78349766e-01,\n",
       "         5.17782622e-01, -2.89742633e-01],\n",
       "       [ 1.86403333e-02, -2.38168321e-01,  3.38646233e-01,\n",
       "        -1.22134797e+00,  1.64131588e-01],\n",
       "       [ 2.26579070e+00, -2.43800802e+00, -2.17736863e-01,\n",
       "         7.17556134e-01, -6.65752670e-01],\n",
       "       [ 1.59899671e-01,  5.37445134e-01, -5.57465006e-01,\n",
       "        -3.81923364e-01,  8.26480080e-01],\n",
       "       [-2.92881985e-01, -2.29861114e-01,  1.49123111e+00,\n",
       "        -4.45909198e-01,  2.21694735e-01],\n",
       "       [-1.87501881e+00, -1.75944745e-01, -2.30612882e-01,\n",
       "        -2.79117466e-01, -9.66928903e-01],\n",
       "       [-1.23901187e+00,  3.63313719e-01, -2.39019262e+00,\n",
       "         5.67307872e-01,  6.72742042e-01],\n",
       "       [ 2.46592838e+00,  9.58409957e-02,  2.66389506e+00,\n",
       "         7.35404269e-01, -1.37304546e+00],\n",
       "       [-3.39910481e-01,  1.29751932e+00, -4.37452954e-01,\n",
       "        -8.26284703e-01,  7.11318206e-01],\n",
       "       [-1.52780047e+00,  5.46697118e-01,  1.35283879e-01,\n",
       "        -4.14866740e-01, -3.52583623e-01],\n",
       "       [ 1.18877530e+00,  1.60482592e-01, -4.82793536e-01,\n",
       "        -9.34911185e-01, -2.25082505e-01],\n",
       "       [ 1.17177257e+00, -2.59865394e-01, -6.12466599e-01,\n",
       "        -1.05841978e+00,  4.72561531e-02],\n",
       "       [-1.80245852e+00,  2.03759195e+00, -2.54536211e+00,\n",
       "         1.03713787e+00,  7.25375737e-01],\n",
       "       [-1.77352471e+00,  1.04688558e+00, -2.41917882e+00,\n",
       "         1.15430879e+00,  1.01592867e+00],\n",
       "       [ 8.18967572e-01,  3.94633641e-01,  1.49714520e+00,\n",
       "        -6.07826815e-01, -3.76778182e-02],\n",
       "       [ 1.40981474e+00,  7.29602186e-01, -4.10427796e-01,\n",
       "        -7.71121710e-01,  1.69461934e-01],\n",
       "       [ 6.91785070e+00,  4.85531273e+00,  9.60087142e-01,\n",
       "         3.13461098e+00, -2.67129027e-01],\n",
       "       [ 7.33216481e-01, -9.64392601e-02, -6.55871771e-01,\n",
       "        -1.14612949e+00,  1.92565059e-01],\n",
       "       [-2.13609109e+00,  3.40922114e-01,  2.45262910e-01,\n",
       "        -3.11189848e-01, -6.14801443e-01],\n",
       "       [-2.97972497e+00,  2.16436843e-01, -2.08393322e-01,\n",
       "         8.38092403e-01, -2.32220778e-01],\n",
       "       [ 1.23066037e+00,  1.60291282e+00,  5.43109561e-01,\n",
       "        -1.08311761e+00,  1.01098631e-01],\n",
       "       [ 1.10811161e+00,  1.00632624e+00, -2.60904177e-01,\n",
       "        -1.08966233e+00,  2.69616610e-01],\n",
       "       [-3.41300507e+00,  5.54316611e-01, -2.32638086e-01,\n",
       "         1.08507182e+00, -1.25541988e+00],\n",
       "       [ 3.67922643e+00,  4.76472577e+00, -1.05430308e+00,\n",
       "        -5.20945066e-01,  1.60260122e+00],\n",
       "       [-1.95422854e+00,  1.38442041e+00,  7.26003340e-01,\n",
       "         2.01550753e-01,  3.44335620e-01],\n",
       "       [ 8.99700523e-01,  4.15087647e-01, -3.78264732e-01,\n",
       "        -1.07608530e+00, -1.32753481e-01],\n",
       "       [-3.80656511e-01,  9.65361615e-02, -2.74296465e+00,\n",
       "         7.40099695e-01,  1.57664975e+00],\n",
       "       [ 5.10139100e-01,  1.64005573e-01, -1.60032467e+00,\n",
       "        -4.48193902e-01,  1.91940560e+00],\n",
       "       [-9.43812644e-01,  5.45567645e-01,  1.81642276e+00,\n",
       "        -4.01107476e-01,  2.22137664e+00],\n",
       "       [ 1.02666297e+00, -2.60756883e-01, -1.10614118e+00,\n",
       "        -7.27751657e-01,  5.64456074e-01],\n",
       "       [-2.33243111e-01, -2.85033571e-01, -2.44342567e-01,\n",
       "        -1.07323096e+00, -5.02190783e-01],\n",
       "       [-2.92071264e+00,  8.90296189e-01, -2.55651570e-01,\n",
       "         6.36759430e-01, -6.98310125e-01],\n",
       "       [-1.83726357e+00, -1.61216208e+00,  1.03329762e+00,\n",
       "        -1.10816828e+00, -1.39497982e+00],\n",
       "       [-1.04329981e+00,  1.00109669e+00, -7.37312434e-01,\n",
       "         8.47478585e-02, -2.56001118e-01],\n",
       "       [-1.30677284e+00, -7.85745136e-01,  3.85940111e-01,\n",
       "        -7.55140907e-01,  2.78927807e-01],\n",
       "       [ 3.37914362e+00,  1.14563526e-01, -7.52356961e-01,\n",
       "         1.53599747e+00,  3.79078110e-01],\n",
       "       [ 1.81570581e+00, -1.58619117e+00, -2.57365398e-01,\n",
       "         7.36224696e-01,  7.93782097e-02],\n",
       "       [-3.45099016e+00,  9.59644202e-01, -5.62642013e-01,\n",
       "         1.13734217e+00, -1.18964693e+00],\n",
       "       [-4.90948906e+00, -5.17731496e-02,  6.01005810e+00,\n",
       "         2.41487517e+00,  5.40453694e+00],\n",
       "       [ 3.72154059e+00, -1.44377751e+00,  8.78485867e-01,\n",
       "         2.77592867e+00, -7.47763137e-01],\n",
       "       [ 1.12752276e+00,  4.97622243e-01,  2.14333614e+00,\n",
       "        -1.57537488e-01, -4.40542980e-01],\n",
       "       [-2.36056280e+00, -4.78644053e-01,  1.02926117e+00,\n",
       "        -4.06709360e-01, -1.10024485e+00],\n",
       "       [ 1.16339143e+00,  1.11117536e+00, -7.90469336e-01,\n",
       "        -5.52013441e-01,  5.65136231e-01],\n",
       "       [ 1.17540210e-01,  3.59153039e-01, -3.69466132e-02,\n",
       "        -9.45684377e-01,  1.46190385e-01],\n",
       "       [-2.09763715e-02, -1.08858474e+00,  4.26926985e-01,\n",
       "        -1.06046967e+00, -3.41660559e-01],\n",
       "       [-7.83008632e-01, -9.88369050e-02,  3.29683740e-01,\n",
       "        -1.07384476e+00, -7.17055463e-01],\n",
       "       [ 1.21781290e+00, -6.60064470e-01, -3.04717409e-01,\n",
       "        -6.97655013e-01, -7.78325035e-02],\n",
       "       [ 1.81409565e+00, -1.45298305e+00, -9.43382406e-01,\n",
       "         1.85204228e-01,  3.45129760e-01],\n",
       "       [ 4.24288840e+00, -1.85167772e-01,  3.65567740e+00,\n",
       "         2.42959635e+00, -2.81524275e+00],\n",
       "       [ 5.72838023e-01, -6.37311813e-01,  9.62125034e-02,\n",
       "        -1.02855442e+00, -3.38599296e-01],\n",
       "       [ 1.64339105e-01, -1.05963020e+00,  1.09133416e+00,\n",
       "        -6.40936860e-01, -4.87020376e-02],\n",
       "       [-1.67992132e+00, -1.00796943e+00, -1.46372817e+00,\n",
       "         6.64997079e-01,  1.25502741e-01],\n",
       "       [-5.63301242e-01, -2.94840748e-02, -6.19939048e-01,\n",
       "        -5.30824162e-01, -1.75969058e-01],\n",
       "       [ 8.56252729e-01, -1.76841174e-01,  1.90763742e+00,\n",
       "         2.17376929e-01, -2.07892565e-01],\n",
       "       [-1.91264791e+00,  8.46795074e-02, -4.88359761e-01,\n",
       "         3.31674809e-02, -7.71567126e-01],\n",
       "       [ 8.32651886e-01, -8.69344238e-01, -1.02679944e+00,\n",
       "        -5.18550764e-01,  9.59661271e-01],\n",
       "       [ 1.60212798e+00,  2.93442309e+00, -3.80999705e-01,\n",
       "        -1.40092974e+00, -5.33968406e-01],\n",
       "       [-3.38142227e+00, -2.34851720e-01, -1.40062474e+00,\n",
       "         2.56326325e+00,  1.03804121e+00],\n",
       "       [ 5.78297222e+00,  6.68426754e+00,  6.28384597e-01,\n",
       "         9.00962075e-02,  2.54756240e-02],\n",
       "       [ 2.02966114e+00,  1.04900538e+00, -8.63287186e-01,\n",
       "        -3.82333405e-01,  4.42523471e-01],\n",
       "       [ 2.27929784e+00,  1.92449321e-01, -8.02426480e-01,\n",
       "        -7.39656844e-02,  2.39158918e-01],\n",
       "       [-8.06093472e-01,  1.29993701e+00, -1.24022669e+00,\n",
       "        -5.68427246e-02,  7.73508972e-01],\n",
       "       [-1.19124523e+00, -5.53842227e-01, -7.30236223e-01,\n",
       "         5.38689326e-01, -1.09323529e-01],\n",
       "       [ 1.91801644e+00, -4.27112248e-01,  1.45715813e-01,\n",
       "        -4.70615029e-01, -1.36313704e-01],\n",
       "       [ 2.01914279e+00, -1.78617895e+00, -3.73238351e-01,\n",
       "         2.64334386e-01, -1.94776736e-01],\n",
       "       [-5.75132370e-01, -9.89931832e-01,  1.75572555e+00,\n",
       "        -1.36930221e+00,  4.73650484e-01],\n",
       "       [ 2.66713544e-02, -1.69914939e-02, -3.30203103e-02,\n",
       "        -1.22534980e+00, -2.96905959e-01],\n",
       "       [-2.31944150e+00, -7.67380971e-01,  7.35848298e-01,\n",
       "         4.99157288e-01,  2.97273767e-01],\n",
       "       [ 1.71653940e-01, -9.42432875e-02,  1.65102902e-02,\n",
       "        -3.77212074e-01,  1.10093440e-01],\n",
       "       [ 2.81826323e+00, -9.15851058e-01, -1.01272978e-01,\n",
       "         1.24570132e+00, -3.09936510e-01],\n",
       "       [ 4.08862349e+00, -4.29290746e-01, -2.76359289e-01,\n",
       "         2.30671934e+00, -1.84680779e-01],\n",
       "       [-1.24437664e+00, -2.94036939e-02, -1.53757851e-01,\n",
       "        -4.85148185e-01,  4.17517599e-01],\n",
       "       [-2.55416977e+00, -2.17996078e-01, -7.79559614e-02,\n",
       "         4.67171108e-01, -4.44480180e-01],\n",
       "       [ 9.25809212e-01,  8.27978924e-01,  3.52726225e-01,\n",
       "        -1.59155907e+00, -1.93910844e-01],\n",
       "       [-2.37188873e+00, -1.17696614e+00,  3.92826765e-01,\n",
       "         1.15949344e+00,  1.41836650e+00],\n",
       "       [-1.99799358e+00,  9.52270839e-01, -1.21724111e+00,\n",
       "         5.55483496e-01, -3.95009532e-01],\n",
       "       [-7.55117190e-01, -9.33669091e-02, -4.10624172e-01,\n",
       "        -8.54012875e-01, -2.66629684e-01],\n",
       "       [ 6.01940492e-01,  1.71080852e-01, -2.34295966e-01,\n",
       "        -1.11893141e+00,  1.40118262e-01],\n",
       "       [ 4.01370474e-01, -1.41228570e+00,  2.37245999e-01,\n",
       "        -5.59341951e-01, -7.03775884e-02],\n",
       "       [-4.64511787e-01,  1.29070232e+00,  6.18455134e-01,\n",
       "        -9.27496643e-01, -1.08531242e+00],\n",
       "       [-2.85488139e+00, -3.55786620e-01, -6.99311167e-01,\n",
       "         1.29405961e+00,  8.95517218e-02],\n",
       "       [ 3.02727826e-01, -9.29957982e-02, -1.03870139e-01,\n",
       "        -8.90837086e-01,  1.03436786e+00],\n",
       "       [ 2.42749103e+00,  1.15910028e+00,  1.82299009e+00,\n",
       "         2.88815562e-01, -4.62769325e-01],\n",
       "       [ 2.06799873e+00, -1.53682819e+00, -2.49088007e-01,\n",
       "         7.92830044e-01, -2.23892583e-01],\n",
       "       [ 2.64164790e+00, -2.99869599e+00, -1.74103415e+00,\n",
       "         2.80982644e+00,  8.16417350e-01],\n",
       "       [ 6.17286574e-01, -1.43152533e+00, -2.35306865e-01,\n",
       "        -3.59603785e-01,  1.18536034e-01],\n",
       "       [-8.53238232e-01, -6.49520902e-01,  6.17276494e-01,\n",
       "        -7.22563704e-01,  4.92596881e-01],\n",
       "       [-8.20752622e-01,  6.36404045e-01, -3.79488292e-01,\n",
       "        -7.06886324e-01, -4.00380805e-01],\n",
       "       [-5.49894278e-01, -1.21501773e+00,  3.07455578e+00,\n",
       "        -1.08594330e-01,  2.11402493e+00],\n",
       "       [ 4.98569893e-01,  1.39277702e+00, -2.52848673e-01,\n",
       "        -1.08503705e+00,  1.15647077e+00],\n",
       "       [-1.88729445e+00, -1.05396586e-01,  1.10763936e+00,\n",
       "         6.26359434e-02,  6.65467015e-01],\n",
       "       [-2.86388548e+00,  4.87336130e-01,  2.21917897e-01,\n",
       "         8.18991322e-01, -2.65920807e-01]])"
      ]
     },
     "execution_count": 21,
     "metadata": {},
     "output_type": "execute_result"
    }
   ],
   "source": [
    "df_pca"
   ]
  },
  {
   "cell_type": "code",
   "execution_count": 22,
   "metadata": {},
   "outputs": [],
   "source": [
    "#Creating a transpose so that the each column is properly arranged\n",
    "pc = np.transpose(df_pca)"
   ]
  },
  {
   "cell_type": "code",
   "execution_count": 23,
   "metadata": {},
   "outputs": [],
   "source": [
    "pcs_df2 = pd.DataFrame({'PC1':pc[0],'PC2':pc[1]})"
   ]
  },
  {
   "cell_type": "code",
   "execution_count": 24,
   "metadata": {},
   "outputs": [
    {
     "data": {
      "text/html": [
       "<div>\n",
       "<style scoped>\n",
       "    .dataframe tbody tr th:only-of-type {\n",
       "        vertical-align: middle;\n",
       "    }\n",
       "\n",
       "    .dataframe tbody tr th {\n",
       "        vertical-align: top;\n",
       "    }\n",
       "\n",
       "    .dataframe thead th {\n",
       "        text-align: right;\n",
       "    }\n",
       "</style>\n",
       "<table border=\"1\" class=\"dataframe\">\n",
       "  <thead>\n",
       "    <tr style=\"text-align: right;\">\n",
       "      <th></th>\n",
       "      <th>PC1</th>\n",
       "      <th>PC2</th>\n",
       "    </tr>\n",
       "  </thead>\n",
       "  <tbody>\n",
       "    <tr>\n",
       "      <th>0</th>\n",
       "      <td>-2.913000</td>\n",
       "      <td>0.091969</td>\n",
       "    </tr>\n",
       "    <tr>\n",
       "      <th>1</th>\n",
       "      <td>0.429870</td>\n",
       "      <td>-0.589373</td>\n",
       "    </tr>\n",
       "    <tr>\n",
       "      <th>2</th>\n",
       "      <td>-0.285289</td>\n",
       "      <td>-0.452139</td>\n",
       "    </tr>\n",
       "    <tr>\n",
       "      <th>3</th>\n",
       "      <td>-2.932714</td>\n",
       "      <td>1.698771</td>\n",
       "    </tr>\n",
       "    <tr>\n",
       "      <th>4</th>\n",
       "      <td>1.033371</td>\n",
       "      <td>0.133853</td>\n",
       "    </tr>\n",
       "  </tbody>\n",
       "</table>\n",
       "</div>"
      ],
      "text/plain": [
       "        PC1       PC2\n",
       "0 -2.913000  0.091969\n",
       "1  0.429870 -0.589373\n",
       "2 -0.285289 -0.452139\n",
       "3 -2.932714  1.698771\n",
       "4  1.033371  0.133853"
      ]
     },
     "execution_count": 24,
     "metadata": {},
     "output_type": "execute_result"
    }
   ],
   "source": [
    "pcs_df2.head()\n"
   ]
  },
  {
   "cell_type": "code",
   "execution_count": 25,
   "metadata": {},
   "outputs": [
    {
     "data": {
      "image/png": "[encoded data removed]",
      "text/plain": [
       "<Figure size 432x288 with 1 Axes>"
      ]
     },
     "metadata": {
      "needs_background": "light"
     },
     "output_type": "display_data"
    }
   ],
   "source": [
    "## Let's perform Outlier Analysis\n",
    "#Let's do the outlier analysis before proceeding to clustering\n",
    "#We can reassign the outliers to the clusters later\n",
    "plt.boxplot(pcs_df2.PC1)\n",
    "Q1 = pcs_df2.PC1.quantile(0.00)\n",
    "Q3 = pcs_df2.PC1.quantile(0.99)\n",
    "IQR = Q3 - Q1\n",
    "pcs_df2 = pcs_df2[(pcs_df2.PC1 >= Q1) & (pcs_df2.PC1 <= Q3)]"
   ]
  },
  {
   "cell_type": "code",
   "execution_count": 26,
   "metadata": {},
   "outputs": [
    {
     "data": {
      "image/png": "[encoded data removed]",
      "text/plain": [
       "<Figure size 432x288 with 1 Axes>"
      ]
     },
     "metadata": {
      "needs_background": "light"
     },
     "output_type": "display_data"
    }
   ],
   "source": [
    "plt.boxplot(pcs_df2.PC2)\n",
    "Q1 = pcs_df2.PC2.quantile(0.00)\n",
    "Q3 = pcs_df2.PC2.quantile(0.99)\n",
    "IQR = Q3 - Q1\n",
    "pcs_df2 = pcs_df2[(pcs_df2.PC2 >= Q1) & (pcs_df2.PC2 <= Q3)]"
   ]
  },
  {
   "cell_type": "code",
   "execution_count": 27,
   "metadata": {},
   "outputs": [
    {
     "data": {
      "text/plain": [
       "(163, 2)"
      ]
     },
     "execution_count": 27,
     "metadata": {},
     "output_type": "execute_result"
    }
   ],
   "source": [
    "pcs_df2.shape"
   ]
  },
  {
   "cell_type": "code",
   "execution_count": 28,
   "metadata": {},
   "outputs": [
    {
     "data": {
      "text/plain": [
       "<matplotlib.axes._subplots.AxesSubplot at 0x16fc326dc18>"
      ]
     },
     "execution_count": 28,
     "metadata": {},
     "output_type": "execute_result"
    },
    {
     "data": {
      "image/png": "[encoded data removed]",
      "text/plain": [
       "<Figure size 432x288 with 1 Axes>"
      ]
     },
     "metadata": {
      "needs_background": "light"
     },
     "output_type": "display_data"
    }
   ],
   "source": [
    "#Visualising the points on the PCs.\n",
    "# one of the prime advatanges of PCA is that you can visualise high dimensional data\n",
    "sns.scatterplot(x='PC1',y='PC2',data=pcs_df2)"
   ]
  },
  {
   "cell_type": "code",
   "execution_count": 29,
   "metadata": {},
   "outputs": [],
   "source": [
    "#Creating correlation matrix for the principal components - we expect little to no correlation\n",
    "\n",
    "#creating correlation matrix for the principal components\n",
    "\n",
    "corrmat = np.corrcoef(df_pca.transpose())\n",
    "\n"
   ]
  },
  {
   "cell_type": "code",
   "execution_count": 30,
   "metadata": {},
   "outputs": [
    {
     "data": {
      "text/plain": [
       "<matplotlib.axes._subplots.AxesSubplot at 0x16fc3338f98>"
      ]
     },
     "execution_count": 30,
     "metadata": {},
     "output_type": "execute_result"
    },
    {
     "data": {
      "image/png": "[encoded data removed]",
      "text/plain": [
       "<Figure size 720x360 with 2 Axes>"
      ]
     },
     "metadata": {
      "needs_background": "light"
     },
     "output_type": "display_data"
    }
   ],
   "source": [
    "#plotting the correlation matrix\n",
    "\n",
    "%matplotlib inline\n",
    "\n",
    "plt.figure(figsize = (10,5))\n",
    "\n",
    "sns.heatmap(corrmat,annot = True)"
   ]
  },
  {
   "cell_type": "code",
   "execution_count": 31,
   "metadata": {},
   "outputs": [
    {
     "name": "stdout",
     "output_type": "stream",
     "text": [
      "max corr: 0.007194543060491426 , min corr:  -0.002374704497495838\n"
     ]
    }
   ],
   "source": [
    "# 1s -> 0s in diagonals\n",
    "corrmat_nodiag = corrmat - np.diagflat(corrmat.diagonal())\n",
    "print(\"max corr:\",corrmat_nodiag.max(), \", min corr: \", corrmat_nodiag.min(),)\n",
    "# we see that correlations are indeed very close to 0"
   ]
  },
  {
   "cell_type": "markdown",
   "metadata": {},
   "source": [
    "Indeed there is no correlation between first 2 components and therefor the model is a stable model for analysis.\n"
   ]
  },
  {
   "cell_type": "markdown",
   "metadata": {},
   "source": [
    "# Clustering\n",
    "\n",
    "### K-means clustering"
   ]
  },
  {
   "cell_type": "code",
   "execution_count": 32,
   "metadata": {},
   "outputs": [],
   "source": [
    "#Calculating the Hopkins statistic\n",
    "from sklearn.neighbors import NearestNeighbors\n",
    "from random import sample\n",
    "from numpy.random import uniform\n",
    "import numpy as np\n",
    "from math import isnan\n",
    " \n",
    "def hopkins(X):\n",
    "    d = X.shape[1]\n",
    "    #d = len(vars) # columns\n",
    "    n = len(X) # rows\n",
    "    m = int(0.1 * n) \n",
    "    nbrs = NearestNeighbors(n_neighbors=1).fit(X.values)\n",
    " \n",
    "    rand_X = sample(range(0, n, 1), m)\n",
    " \n",
    "    ujd = []\n",
    "    wjd = []\n",
    "    for j in range(0, m):\n",
    "        u_dist, _ = nbrs.kneighbors(uniform(np.amin(X,axis=0),np.amax(X,axis=0),d).reshape(1, -1), 2, return_distance=True)\n",
    "        ujd.append(u_dist[0][1])\n",
    "        w_dist, _ = nbrs.kneighbors(X.iloc[rand_X[j]].values.reshape(1, -1), 2, return_distance=True)\n",
    "        wjd.append(w_dist[0][1])\n",
    " \n",
    "    H = sum(ujd) / (sum(ujd) + sum(wjd))\n",
    "    if isnan(H):\n",
    "        print(ujd, wjd)\n",
    "        H = 0\n",
    " \n",
    "    return H"
   ]
  },
  {
   "cell_type": "code",
   "execution_count": 33,
   "metadata": {},
   "outputs": [
    {
     "data": {
      "text/plain": [
       "0.6006868617279895"
      ]
     },
     "execution_count": 33,
     "metadata": {},
     "output_type": "execute_result"
    }
   ],
   "source": [
    "#Let's check the Hopkins measure\n",
    "hopkins(pcs_df2)"
   ]
  },
  {
   "cell_type": "code",
   "execution_count": 34,
   "metadata": {},
   "outputs": [],
   "source": [
    "#Since the value is > 0.5 the given dataset has a good tendency to form clusters."
   ]
  },
  {
   "cell_type": "code",
   "execution_count": 35,
   "metadata": {},
   "outputs": [],
   "source": [
    "#copying to 2 different df's, one for k-means and other for heirarchical clustering analusis\n",
    "dat3_1 = pcs_df2\n",
    "dat3_2 = pcs_df2"
   ]
  },
  {
   "cell_type": "markdown",
   "metadata": {},
   "source": [
    "# K-means clustering"
   ]
  },
  {
   "cell_type": "code",
   "execution_count": 36,
   "metadata": {},
   "outputs": [],
   "source": [
    "#First we'll do the silhouette score analysis\n",
    "from sklearn.metrics import silhouette_score\n",
    "sse_ = []\n",
    "for k in range(2, 10):\n",
    "    kmeans = KMeans(n_clusters=k).fit(dat3_1)\n",
    "    sse_.append([k, silhouette_score(dat3_1, kmeans.labels_)])"
   ]
  },
  {
   "cell_type": "code",
   "execution_count": 37,
   "metadata": {},
   "outputs": [
    {
     "data": {
      "image/png": "[encoded data removed]",
      "text/plain": [
       "<Figure size 432x288 with 1 Axes>"
      ]
     },
     "metadata": {
      "needs_background": "light"
     },
     "output_type": "display_data"
    }
   ],
   "source": [
    "plt.plot(pd.DataFrame(sse_)[0], pd.DataFrame(sse_)[1]);"
   ]
  },
  {
   "cell_type": "code",
   "execution_count": 38,
   "metadata": {},
   "outputs": [
    {
     "data": {
      "text/plain": [
       "[<matplotlib.lines.Line2D at 0x16fc3ebc400>]"
      ]
     },
     "execution_count": 38,
     "metadata": {},
     "output_type": "execute_result"
    },
    {
     "data": {
      "image/png": "[encoded data removed]",
      "text/plain": [
       "<Figure size 432x288 with 1 Axes>"
      ]
     },
     "metadata": {
      "needs_background": "light"
     },
     "output_type": "display_data"
    }
   ],
   "source": [
    "## From the above analysis we find that 5 seems to be a good number of clusters for K means algorithm\n",
    "#Now let's proceed to the elbow curve method\n",
    "ssd = []\n",
    "for num_clusters in list(range(1,10)):\n",
    "    model_clus = KMeans(n_clusters = num_clusters, max_iter=50)\n",
    "    model_clus.fit(dat3_1)\n",
    "    ssd.append(model_clus.inertia_)\n",
    "\n",
    "plt.plot(ssd)"
   ]
  },
  {
   "cell_type": "code",
   "execution_count": 39,
   "metadata": {},
   "outputs": [
    {
     "data": {
      "text/plain": [
       "KMeans(algorithm='auto', copy_x=True, init='k-means++', max_iter=50,\n",
       "    n_clusters=3, n_init=10, n_jobs=1, precompute_distances='auto',\n",
       "    random_state=50, tol=0.0001, verbose=0)"
      ]
     },
     "execution_count": 39,
     "metadata": {},
     "output_type": "execute_result"
    }
   ],
   "source": [
    "#Here also we're seeing a distinct bend at around 5 clusters. Hence it seems a good K to choose.\n",
    "#Let's perform K means using K=3\n",
    "model_clus2 = KMeans(n_clusters = 3, max_iter=50,random_state = 50)\n",
    "model_clus2.fit(dat3_1)"
   ]
  },
  {
   "cell_type": "code",
   "execution_count": 40,
   "metadata": {},
   "outputs": [
    {
     "data": {
      "text/html": [
       "<div>\n",
       "<style scoped>\n",
       "    .dataframe tbody tr th:only-of-type {\n",
       "        vertical-align: middle;\n",
       "    }\n",
       "\n",
       "    .dataframe tbody tr th {\n",
       "        vertical-align: top;\n",
       "    }\n",
       "\n",
       "    .dataframe thead th {\n",
       "        text-align: right;\n",
       "    }\n",
       "</style>\n",
       "<table border=\"1\" class=\"dataframe\">\n",
       "  <thead>\n",
       "    <tr style=\"text-align: right;\">\n",
       "      <th></th>\n",
       "      <th>PC1</th>\n",
       "      <th>PC2</th>\n",
       "      <th>ClusterID</th>\n",
       "    </tr>\n",
       "  </thead>\n",
       "  <tbody>\n",
       "    <tr>\n",
       "      <th>0</th>\n",
       "      <td>-2.913000</td>\n",
       "      <td>0.091969</td>\n",
       "      <td>1</td>\n",
       "    </tr>\n",
       "    <tr>\n",
       "      <th>1</th>\n",
       "      <td>0.429870</td>\n",
       "      <td>-0.589373</td>\n",
       "      <td>0</td>\n",
       "    </tr>\n",
       "    <tr>\n",
       "      <th>2</th>\n",
       "      <td>-0.285289</td>\n",
       "      <td>-0.452139</td>\n",
       "      <td>0</td>\n",
       "    </tr>\n",
       "    <tr>\n",
       "      <th>3</th>\n",
       "      <td>-2.932714</td>\n",
       "      <td>1.698771</td>\n",
       "      <td>1</td>\n",
       "    </tr>\n",
       "    <tr>\n",
       "      <th>4</th>\n",
       "      <td>1.033371</td>\n",
       "      <td>0.133853</td>\n",
       "      <td>0</td>\n",
       "    </tr>\n",
       "  </tbody>\n",
       "</table>\n",
       "</div>"
      ],
      "text/plain": [
       "        PC1       PC2  ClusterID\n",
       "0 -2.913000  0.091969          1\n",
       "1  0.429870 -0.589373          0\n",
       "2 -0.285289 -0.452139          0\n",
       "3 -2.932714  1.698771          1\n",
       "4  1.033371  0.133853          0"
      ]
     },
     "execution_count": 40,
     "metadata": {},
     "output_type": "execute_result"
    }
   ],
   "source": [
    "#comparing pc 1 and pc 2 and clustersformed on the dataset\n",
    "dat4=pcs_df2\n",
    "dat4.index = pd.RangeIndex(len(dat4.index))\n",
    "dat_km = pd.concat([dat4, pd.Series(model_clus2.labels_)], axis=1)\n",
    "dat_km.columns = ['PC1', 'PC2','ClusterID']\n",
    "dat_km.head()"
   ]
  },
  {
   "cell_type": "code",
   "execution_count": 41,
   "metadata": {},
   "outputs": [
    {
     "data": {
      "text/plain": [
       "0    80\n",
       "1    47\n",
       "2    36\n",
       "Name: ClusterID, dtype: int64"
      ]
     },
     "execution_count": 41,
     "metadata": {},
     "output_type": "execute_result"
    }
   ],
   "source": [
    "#counting the number of elements in earch cluster\n",
    "dat_km['ClusterID'].value_counts()"
   ]
  },
  {
   "cell_type": "code",
   "execution_count": 42,
   "metadata": {},
   "outputs": [
    {
     "data": {
      "text/plain": [
       "<matplotlib.axes._subplots.AxesSubplot at 0x16fc3eda278>"
      ]
     },
     "execution_count": 42,
     "metadata": {},
     "output_type": "execute_result"
    },
    {
     "data": {
      "image/png": "[encoded data removed]",
      "text/plain": [
       "<Figure size 432x288 with 1 Axes>"
      ]
     },
     "metadata": {
      "needs_background": "light"
     },
     "output_type": "display_data"
    }
   ],
   "source": [
    "sns.scatterplot(x='PC1',y='PC2',hue='ClusterID',legend='full',data=dat_km)"
   ]
  },
  {
   "cell_type": "markdown",
   "metadata": {},
   "source": [
    "CLuster 1 is having negative correlation"
   ]
  },
  {
   "cell_type": "code",
   "execution_count": 43,
   "metadata": {},
   "outputs": [
    {
     "data": {
      "text/html": [
       "<div>\n",
       "<style scoped>\n",
       "    .dataframe tbody tr th:only-of-type {\n",
       "        vertical-align: middle;\n",
       "    }\n",
       "\n",
       "    .dataframe tbody tr th {\n",
       "        vertical-align: top;\n",
       "    }\n",
       "\n",
       "    .dataframe thead th {\n",
       "        text-align: right;\n",
       "    }\n",
       "</style>\n",
       "<table border=\"1\" class=\"dataframe\">\n",
       "  <thead>\n",
       "    <tr style=\"text-align: right;\">\n",
       "      <th></th>\n",
       "      <th>child_mort</th>\n",
       "      <th>exports</th>\n",
       "      <th>health</th>\n",
       "      <th>imports</th>\n",
       "      <th>income</th>\n",
       "      <th>inflation</th>\n",
       "      <th>life_expec</th>\n",
       "      <th>total_fer</th>\n",
       "      <th>gdpp</th>\n",
       "      <th>PC1</th>\n",
       "      <th>PC2</th>\n",
       "      <th>ClusterID</th>\n",
       "    </tr>\n",
       "  </thead>\n",
       "  <tbody>\n",
       "    <tr>\n",
       "      <th>0</th>\n",
       "      <td>90.2</td>\n",
       "      <td>10.0</td>\n",
       "      <td>7.58</td>\n",
       "      <td>44.9</td>\n",
       "      <td>1610</td>\n",
       "      <td>9.44</td>\n",
       "      <td>56.2</td>\n",
       "      <td>5.82</td>\n",
       "      <td>553</td>\n",
       "      <td>-2.913000</td>\n",
       "      <td>0.091969</td>\n",
       "      <td>1</td>\n",
       "    </tr>\n",
       "    <tr>\n",
       "      <th>1</th>\n",
       "      <td>16.6</td>\n",
       "      <td>28.0</td>\n",
       "      <td>6.55</td>\n",
       "      <td>48.6</td>\n",
       "      <td>9930</td>\n",
       "      <td>4.49</td>\n",
       "      <td>76.3</td>\n",
       "      <td>1.65</td>\n",
       "      <td>4090</td>\n",
       "      <td>0.429870</td>\n",
       "      <td>-0.589373</td>\n",
       "      <td>0</td>\n",
       "    </tr>\n",
       "    <tr>\n",
       "      <th>2</th>\n",
       "      <td>27.3</td>\n",
       "      <td>38.4</td>\n",
       "      <td>4.17</td>\n",
       "      <td>31.4</td>\n",
       "      <td>12900</td>\n",
       "      <td>16.10</td>\n",
       "      <td>76.5</td>\n",
       "      <td>2.89</td>\n",
       "      <td>4460</td>\n",
       "      <td>-0.285289</td>\n",
       "      <td>-0.452139</td>\n",
       "      <td>0</td>\n",
       "    </tr>\n",
       "    <tr>\n",
       "      <th>3</th>\n",
       "      <td>119.0</td>\n",
       "      <td>62.3</td>\n",
       "      <td>2.85</td>\n",
       "      <td>42.9</td>\n",
       "      <td>5900</td>\n",
       "      <td>22.40</td>\n",
       "      <td>60.1</td>\n",
       "      <td>6.16</td>\n",
       "      <td>3530</td>\n",
       "      <td>-2.932714</td>\n",
       "      <td>1.698771</td>\n",
       "      <td>1</td>\n",
       "    </tr>\n",
       "    <tr>\n",
       "      <th>4</th>\n",
       "      <td>10.3</td>\n",
       "      <td>45.5</td>\n",
       "      <td>6.03</td>\n",
       "      <td>58.9</td>\n",
       "      <td>19100</td>\n",
       "      <td>1.44</td>\n",
       "      <td>76.8</td>\n",
       "      <td>2.13</td>\n",
       "      <td>12200</td>\n",
       "      <td>1.033371</td>\n",
       "      <td>0.133853</td>\n",
       "      <td>0</td>\n",
       "    </tr>\n",
       "  </tbody>\n",
       "</table>\n",
       "</div>"
      ],
      "text/plain": [
       "   child_mort  exports  health  imports  income  inflation  life_expec  \\\n",
       "0        90.2     10.0    7.58     44.9    1610       9.44        56.2   \n",
       "1        16.6     28.0    6.55     48.6    9930       4.49        76.3   \n",
       "2        27.3     38.4    4.17     31.4   12900      16.10        76.5   \n",
       "3       119.0     62.3    2.85     42.9    5900      22.40        60.1   \n",
       "4        10.3     45.5    6.03     58.9   19100       1.44        76.8   \n",
       "\n",
       "   total_fer   gdpp       PC1       PC2  ClusterID  \n",
       "0       5.82    553 -2.913000  0.091969          1  \n",
       "1       1.65   4090  0.429870 -0.589373          0  \n",
       "2       2.89   4460 -0.285289 -0.452139          0  \n",
       "3       6.16   3530 -2.932714  1.698771          1  \n",
       "4       2.13  12200  1.033371  0.133853          0  "
      ]
     },
     "execution_count": 43,
     "metadata": {},
     "output_type": "execute_result"
    }
   ],
   "source": [
    "#Important note: The following merging is actually wrong for this particular case and in the live session this code was used\n",
    "# since you would have performed the outlier analysis on the dataset and would be missing certain values\n",
    "#However this would work when you do it with the countries data\n",
    "#You do need to merge the original dataset with the clusters. \n",
    "#Since you would be clustering on the basis of country name that problem would be avoided.\n",
    "dat5=pd.merge(country_data,dat_km, left_index=True,right_index=True)\n",
    "dat5.head()"
   ]
  },
  {
   "cell_type": "code",
   "execution_count": null,
   "metadata": {},
   "outputs": [],
   "source": []
  },
  {
   "cell_type": "code",
   "execution_count": 44,
   "metadata": {},
   "outputs": [
    {
     "data": {
      "text/html": [
       "<div>\n",
       "<style scoped>\n",
       "    .dataframe tbody tr th:only-of-type {\n",
       "        vertical-align: middle;\n",
       "    }\n",
       "\n",
       "    .dataframe tbody tr th {\n",
       "        vertical-align: top;\n",
       "    }\n",
       "\n",
       "    .dataframe thead th {\n",
       "        text-align: right;\n",
       "    }\n",
       "</style>\n",
       "<table border=\"1\" class=\"dataframe\">\n",
       "  <thead>\n",
       "    <tr style=\"text-align: right;\">\n",
       "      <th></th>\n",
       "      <th>child_mort</th>\n",
       "      <th>exports</th>\n",
       "      <th>health</th>\n",
       "      <th>imports</th>\n",
       "      <th>income</th>\n",
       "      <th>inflation</th>\n",
       "      <th>life_expec</th>\n",
       "      <th>total_fer</th>\n",
       "      <th>gdpp</th>\n",
       "      <th>ClusterID</th>\n",
       "    </tr>\n",
       "  </thead>\n",
       "  <tbody>\n",
       "    <tr>\n",
       "      <th>0</th>\n",
       "      <td>90.2</td>\n",
       "      <td>10.0</td>\n",
       "      <td>7.58</td>\n",
       "      <td>44.9</td>\n",
       "      <td>1610</td>\n",
       "      <td>9.44</td>\n",
       "      <td>56.2</td>\n",
       "      <td>5.82</td>\n",
       "      <td>553</td>\n",
       "      <td>1</td>\n",
       "    </tr>\n",
       "    <tr>\n",
       "      <th>1</th>\n",
       "      <td>16.6</td>\n",
       "      <td>28.0</td>\n",
       "      <td>6.55</td>\n",
       "      <td>48.6</td>\n",
       "      <td>9930</td>\n",
       "      <td>4.49</td>\n",
       "      <td>76.3</td>\n",
       "      <td>1.65</td>\n",
       "      <td>4090</td>\n",
       "      <td>0</td>\n",
       "    </tr>\n",
       "    <tr>\n",
       "      <th>2</th>\n",
       "      <td>27.3</td>\n",
       "      <td>38.4</td>\n",
       "      <td>4.17</td>\n",
       "      <td>31.4</td>\n",
       "      <td>12900</td>\n",
       "      <td>16.10</td>\n",
       "      <td>76.5</td>\n",
       "      <td>2.89</td>\n",
       "      <td>4460</td>\n",
       "      <td>0</td>\n",
       "    </tr>\n",
       "    <tr>\n",
       "      <th>3</th>\n",
       "      <td>119.0</td>\n",
       "      <td>62.3</td>\n",
       "      <td>2.85</td>\n",
       "      <td>42.9</td>\n",
       "      <td>5900</td>\n",
       "      <td>22.40</td>\n",
       "      <td>60.1</td>\n",
       "      <td>6.16</td>\n",
       "      <td>3530</td>\n",
       "      <td>1</td>\n",
       "    </tr>\n",
       "    <tr>\n",
       "      <th>4</th>\n",
       "      <td>10.3</td>\n",
       "      <td>45.5</td>\n",
       "      <td>6.03</td>\n",
       "      <td>58.9</td>\n",
       "      <td>19100</td>\n",
       "      <td>1.44</td>\n",
       "      <td>76.8</td>\n",
       "      <td>2.13</td>\n",
       "      <td>12200</td>\n",
       "      <td>0</td>\n",
       "    </tr>\n",
       "  </tbody>\n",
       "</table>\n",
       "</div>"
      ],
      "text/plain": [
       "   child_mort  exports  health  imports  income  inflation  life_expec  \\\n",
       "0        90.2     10.0    7.58     44.9    1610       9.44        56.2   \n",
       "1        16.6     28.0    6.55     48.6    9930       4.49        76.3   \n",
       "2        27.3     38.4    4.17     31.4   12900      16.10        76.5   \n",
       "3       119.0     62.3    2.85     42.9    5900      22.40        60.1   \n",
       "4        10.3     45.5    6.03     58.9   19100       1.44        76.8   \n",
       "\n",
       "   total_fer   gdpp  ClusterID  \n",
       "0       5.82    553          1  \n",
       "1       1.65   4090          0  \n",
       "2       2.89   4460          0  \n",
       "3       6.16   3530          1  \n",
       "4       2.13  12200          0  "
      ]
     },
     "execution_count": 44,
     "metadata": {},
     "output_type": "execute_result"
    }
   ],
   "source": [
    "#merging the clusterID with the dataset\n",
    "dat6=dat5.drop(['PC1','PC2'],axis=1)\n",
    "dat6.head()"
   ]
  },
  {
   "cell_type": "code",
   "execution_count": null,
   "metadata": {},
   "outputs": [],
   "source": []
  },
  {
   "cell_type": "code",
   "execution_count": 45,
   "metadata": {},
   "outputs": [],
   "source": [
    "#So we have performed the clustering using the PCs and have now allocated the clusterIDs back to each of the datapoints"
   ]
  },
  {
   "cell_type": "markdown",
   "metadata": {},
   "source": [
    "# Analysing the clusters formed"
   ]
  },
  {
   "cell_type": "code",
   "execution_count": 46,
   "metadata": {},
   "outputs": [],
   "source": [
    "#calcualting the mean of each continuous variable\n",
    "\n",
    "clu_child_mort = \tpd.DataFrame(dat6.groupby([\"ClusterID\"]).child_mort.mean())\n",
    "clu_exports= \tpd.DataFrame(dat6.groupby([\"ClusterID\"]).exports.mean())\n",
    "clu_health = \tpd.DataFrame(dat6.groupby([\"ClusterID\"]).health.mean())\n",
    "clu_imports = \tpd.DataFrame(dat6.groupby([\"ClusterID\"]).imports.mean())\n",
    "clu_income = \tpd.DataFrame(dat6.groupby([\"ClusterID\"]).income.mean())\n",
    "clu_inflation = \tpd.DataFrame(dat6.groupby([\"ClusterID\"]).inflation.mean())\n",
    "clu_life_expec = \tpd.DataFrame(dat6.groupby([\"ClusterID\"]).life_expec.mean())\n",
    "clu_total_fer = \tpd.DataFrame(dat6.groupby([\"ClusterID\"]).total_fer.mean())\n",
    "clu_gdpp = \tpd.DataFrame(dat6.groupby([\"ClusterID\"]).gdpp.mean())"
   ]
  },
  {
   "cell_type": "code",
   "execution_count": 47,
   "metadata": {},
   "outputs": [],
   "source": [
    "#concatinating the clusterid with the mean values of each variable \n",
    "df = pd.concat([pd.Series([0,1,2]),clu_child_mort,clu_exports,clu_health,clu_imports,clu_income,clu_inflation,clu_life_expec,clu_total_fer,clu_gdpp], axis=1)"
   ]
  },
  {
   "cell_type": "code",
   "execution_count": 48,
   "metadata": {},
   "outputs": [
    {
     "data": {
      "text/html": [
       "<div>\n",
       "<style scoped>\n",
       "    .dataframe tbody tr th:only-of-type {\n",
       "        vertical-align: middle;\n",
       "    }\n",
       "\n",
       "    .dataframe tbody tr th {\n",
       "        vertical-align: top;\n",
       "    }\n",
       "\n",
       "    .dataframe thead th {\n",
       "        text-align: right;\n",
       "    }\n",
       "</style>\n",
       "<table border=\"1\" class=\"dataframe\">\n",
       "  <thead>\n",
       "    <tr style=\"text-align: right;\">\n",
       "      <th></th>\n",
       "      <th>ClusterID</th>\n",
       "      <th>child_mort</th>\n",
       "      <th>exports</th>\n",
       "      <th>health</th>\n",
       "      <th>imports</th>\n",
       "      <th>income</th>\n",
       "      <th>inflation</th>\n",
       "      <th>life_expec</th>\n",
       "      <th>total_fer</th>\n",
       "      <th>gdpp</th>\n",
       "    </tr>\n",
       "  </thead>\n",
       "  <tbody>\n",
       "    <tr>\n",
       "      <th>0</th>\n",
       "      <td>0</td>\n",
       "      <td>28.743750</td>\n",
       "      <td>42.857612</td>\n",
       "      <td>6.775250</td>\n",
       "      <td>47.784574</td>\n",
       "      <td>16998.000000</td>\n",
       "      <td>8.991763</td>\n",
       "      <td>72.148750</td>\n",
       "      <td>2.564250</td>\n",
       "      <td>10837.912500</td>\n",
       "    </tr>\n",
       "    <tr>\n",
       "      <th>1</th>\n",
       "      <td>1</td>\n",
       "      <td>70.282979</td>\n",
       "      <td>33.759787</td>\n",
       "      <td>6.400000</td>\n",
       "      <td>46.114894</td>\n",
       "      <td>9184.021277</td>\n",
       "      <td>7.539064</td>\n",
       "      <td>64.114894</td>\n",
       "      <td>4.102979</td>\n",
       "      <td>7918.212766</td>\n",
       "    </tr>\n",
       "    <tr>\n",
       "      <th>2</th>\n",
       "      <td>2</td>\n",
       "      <td>16.902778</td>\n",
       "      <td>46.732778</td>\n",
       "      <td>7.571667</td>\n",
       "      <td>46.594444</td>\n",
       "      <td>28970.111111</td>\n",
       "      <td>3.619139</td>\n",
       "      <td>75.819444</td>\n",
       "      <td>2.217778</td>\n",
       "      <td>25229.027778</td>\n",
       "    </tr>\n",
       "  </tbody>\n",
       "</table>\n",
       "</div>"
      ],
      "text/plain": [
       "   ClusterID  child_mort    exports    health    imports        income  \\\n",
       "0          0   28.743750  42.857612  6.775250  47.784574  16998.000000   \n",
       "1          1   70.282979  33.759787  6.400000  46.114894   9184.021277   \n",
       "2          2   16.902778  46.732778  7.571667  46.594444  28970.111111   \n",
       "\n",
       "   inflation  life_expec  total_fer          gdpp  \n",
       "0   8.991763   72.148750   2.564250  10837.912500  \n",
       "1   7.539064   64.114894   4.102979   7918.212766  \n",
       "2   3.619139   75.819444   2.217778  25229.027778  "
      ]
     },
     "execution_count": 48,
     "metadata": {},
     "output_type": "execute_result"
    }
   ],
   "source": [
    "#mean values in each clusters\n",
    "df.columns = [\"ClusterID\",\"child_mort\",\"exports\",\"health\",\"imports\",\"income\",\"inflation\",\"life_expec\",\"total_fer\",\"gdpp\"]\n",
    "df"
   ]
  },
  {
   "cell_type": "code",
   "execution_count": 49,
   "metadata": {},
   "outputs": [
    {
     "data": {
      "text/plain": [
       "<matplotlib.axes._subplots.AxesSubplot at 0x16fc3f77a58>"
      ]
     },
     "execution_count": 49,
     "metadata": {},
     "output_type": "execute_result"
    },
    {
     "data": {
      "image/png": "[encoded data removed]",
      "text/plain": [
       "<Figure size 432x288 with 1 Axes>"
      ]
     },
     "metadata": {
      "needs_background": "light"
     },
     "output_type": "display_data"
    }
   ],
   "source": [
    "#plotingn scatterplot on 2 different variables\n",
    "sns.scatterplot(x='child_mort',y='gdpp',data=dat6)\n"
   ]
  },
  {
   "cell_type": "code",
   "execution_count": 50,
   "metadata": {},
   "outputs": [
    {
     "data": {
      "text/plain": [
       "<matplotlib.axes._subplots.AxesSubplot at 0x16fc324ad68>"
      ]
     },
     "execution_count": 50,
     "metadata": {},
     "output_type": "execute_result"
    },
    {
     "data": {
      "image/png": "[encoded data removed]",
      "text/plain": [
       "<Figure size 432x288 with 1 Axes>"
      ]
     },
     "metadata": {
      "needs_background": "light"
     },
     "output_type": "display_data"
    }
   ],
   "source": [
    "sns.scatterplot(x='health',y='gdpp',data=dat6)\n"
   ]
  },
  {
   "cell_type": "code",
   "execution_count": 51,
   "metadata": {},
   "outputs": [
    {
     "data": {
      "text/plain": [
       "<matplotlib.axes._subplots.AxesSubplot at 0x16fc2c34208>"
      ]
     },
     "execution_count": 51,
     "metadata": {},
     "output_type": "execute_result"
    },
    {
     "data": {
      "image/png": "[encoded data removed]",
      "text/plain": [
       "<Figure size 432x288 with 1 Axes>"
      ]
     },
     "metadata": {
      "needs_background": "light"
     },
     "output_type": "display_data"
    }
   ],
   "source": [
    "sns.barplot(x=df.ClusterID, y=df.exports)"
   ]
  },
  {
   "cell_type": "code",
   "execution_count": 52,
   "metadata": {},
   "outputs": [
    {
     "data": {
      "text/plain": [
       "<matplotlib.axes._subplots.AxesSubplot at 0x16fc3222630>"
      ]
     },
     "execution_count": 52,
     "metadata": {},
     "output_type": "execute_result"
    },
    {
     "data": {
      "image/png": "[encoded data removed]",
      "text/plain": [
       "<Figure size 432x288 with 1 Axes>"
      ]
     },
     "metadata": {
      "needs_background": "light"
     },
     "output_type": "display_data"
    }
   ],
   "source": [
    "sns.barplot(x=df.ClusterID, y=df.health)"
   ]
  },
  {
   "cell_type": "code",
   "execution_count": 53,
   "metadata": {},
   "outputs": [
    {
     "data": {
      "text/plain": [
       "<matplotlib.axes._subplots.AxesSubplot at 0x16fc32639b0>"
      ]
     },
     "execution_count": 53,
     "metadata": {},
     "output_type": "execute_result"
    },
    {
     "data": {
      "image/png": "[encoded data removed]",
      "text/plain": [
       "<Figure size 432x288 with 1 Axes>"
      ]
     },
     "metadata": {
      "needs_background": "light"
     },
     "output_type": "display_data"
    }
   ],
   "source": [
    "sns.barplot(x=df.ClusterID, y=df.imports)"
   ]
  },
  {
   "cell_type": "code",
   "execution_count": 54,
   "metadata": {},
   "outputs": [
    {
     "data": {
      "text/plain": [
       "<matplotlib.axes._subplots.AxesSubplot at 0x16fc3fbecc0>"
      ]
     },
     "execution_count": 54,
     "metadata": {},
     "output_type": "execute_result"
    },
    {
     "data": {
      "image/png": "[encoded data removed]",
      "text/plain": [
       "<Figure size 432x288 with 1 Axes>"
      ]
     },
     "metadata": {
      "needs_background": "light"
     },
     "output_type": "display_data"
    }
   ],
   "source": [
    "sns.barplot(x=df.ClusterID, y=df.income)"
   ]
  },
  {
   "cell_type": "code",
   "execution_count": 55,
   "metadata": {},
   "outputs": [
    {
     "data": {
      "text/plain": [
       "<matplotlib.axes._subplots.AxesSubplot at 0x16fc2fd65c0>"
      ]
     },
     "execution_count": 55,
     "metadata": {},
     "output_type": "execute_result"
    },
    {
     "data": {
      "image/png": "[encoded data removed]",
      "text/plain": [
       "<Figure size 432x288 with 1 Axes>"
      ]
     },
     "metadata": {
      "needs_background": "light"
     },
     "output_type": "display_data"
    }
   ],
   "source": [
    "sns.barplot(x=df.ClusterID, y=df.inflation)"
   ]
  },
  {
   "cell_type": "code",
   "execution_count": 56,
   "metadata": {},
   "outputs": [
    {
     "data": {
      "text/plain": [
       "<matplotlib.axes._subplots.AxesSubplot at 0x16fc3026cc0>"
      ]
     },
     "execution_count": 56,
     "metadata": {},
     "output_type": "execute_result"
    },
    {
     "data": {
      "image/png": "[encoded data removed]",
      "text/plain": [
       "<Figure size 432x288 with 1 Axes>"
      ]
     },
     "metadata": {
      "needs_background": "light"
     },
     "output_type": "display_data"
    }
   ],
   "source": [
    "sns.barplot(x=df.ClusterID, y=df.life_expec)"
   ]
  },
  {
   "cell_type": "code",
   "execution_count": 57,
   "metadata": {},
   "outputs": [
    {
     "data": {
      "text/plain": [
       "<matplotlib.axes._subplots.AxesSubplot at 0x16fc307fe80>"
      ]
     },
     "execution_count": 57,
     "metadata": {},
     "output_type": "execute_result"
    },
    {
     "data": {
      "image/png": "[encoded data removed]",
      "text/plain": [
       "<Figure size 432x288 with 1 Axes>"
      ]
     },
     "metadata": {
      "needs_background": "light"
     },
     "output_type": "display_data"
    }
   ],
   "source": [
    "sns.barplot(x=df.ClusterID, y=df.total_fer)"
   ]
  },
  {
   "cell_type": "code",
   "execution_count": 58,
   "metadata": {},
   "outputs": [
    {
     "data": {
      "text/plain": [
       "<matplotlib.axes._subplots.AxesSubplot at 0x16fc306c320>"
      ]
     },
     "execution_count": 58,
     "metadata": {},
     "output_type": "execute_result"
    },
    {
     "data": {
      "image/png": "[encoded data removed]",
      "text/plain": [
       "<Figure size 432x288 with 1 Axes>"
      ]
     },
     "metadata": {
      "needs_background": "light"
     },
     "output_type": "display_data"
    }
   ],
   "source": [
    "sns.barplot(x=df.ClusterID, y=df.gdpp)"
   ]
  },
  {
   "cell_type": "code",
   "execution_count": 59,
   "metadata": {},
   "outputs": [
    {
     "data": {
      "text/plain": [
       "<matplotlib.axes._subplots.AxesSubplot at 0x16fc31274e0>"
      ]
     },
     "execution_count": 59,
     "metadata": {},
     "output_type": "execute_result"
    },
    {
     "data": {
      "image/png": "[encoded data removed]",
      "text/plain": [
       "<Figure size 432x288 with 1 Axes>"
      ]
     },
     "metadata": {
      "needs_background": "light"
     },
     "output_type": "display_data"
    }
   ],
   "source": [
    "sns.scatterplot(x='health',y='gdpp',data=dat6)"
   ]
  },
  {
   "cell_type": "markdown",
   "metadata": {},
   "source": [
    "Cluster 1 is the poor performing cluster.so based on the mean values in cluster id, binning based on the values in cluster 1 can be used to find the result we are looking for the analysis"
   ]
  },
  {
   "cell_type": "code",
   "execution_count": null,
   "metadata": {},
   "outputs": [],
   "source": []
  },
  {
   "cell_type": "code",
   "execution_count": null,
   "metadata": {},
   "outputs": [],
   "source": []
  },
  {
   "cell_type": "markdown",
   "metadata": {},
   "source": [
    "Cluster 1 is the poorest performing cluster "
   ]
  },
  {
   "cell_type": "code",
   "execution_count": 60,
   "metadata": {},
   "outputs": [
    {
     "data": {
      "text/html": [
       "<div>\n",
       "<style scoped>\n",
       "    .dataframe tbody tr th:only-of-type {\n",
       "        vertical-align: middle;\n",
       "    }\n",
       "\n",
       "    .dataframe tbody tr th {\n",
       "        vertical-align: top;\n",
       "    }\n",
       "\n",
       "    .dataframe thead th {\n",
       "        text-align: right;\n",
       "    }\n",
       "</style>\n",
       "<table border=\"1\" class=\"dataframe\">\n",
       "  <thead>\n",
       "    <tr style=\"text-align: right;\">\n",
       "      <th></th>\n",
       "      <th>country</th>\n",
       "      <th>child_mort</th>\n",
       "      <th>exports</th>\n",
       "      <th>health</th>\n",
       "      <th>imports</th>\n",
       "      <th>income</th>\n",
       "      <th>inflation</th>\n",
       "      <th>life_expec</th>\n",
       "      <th>total_fer</th>\n",
       "      <th>gdpp</th>\n",
       "    </tr>\n",
       "  </thead>\n",
       "  <tbody>\n",
       "    <tr>\n",
       "      <th>0</th>\n",
       "      <td>Afghanistan</td>\n",
       "      <td>90.2</td>\n",
       "      <td>10.0</td>\n",
       "      <td>7.58</td>\n",
       "      <td>44.9</td>\n",
       "      <td>1610</td>\n",
       "      <td>9.44</td>\n",
       "      <td>56.2</td>\n",
       "      <td>5.82</td>\n",
       "      <td>553</td>\n",
       "    </tr>\n",
       "    <tr>\n",
       "      <th>1</th>\n",
       "      <td>Albania</td>\n",
       "      <td>16.6</td>\n",
       "      <td>28.0</td>\n",
       "      <td>6.55</td>\n",
       "      <td>48.6</td>\n",
       "      <td>9930</td>\n",
       "      <td>4.49</td>\n",
       "      <td>76.3</td>\n",
       "      <td>1.65</td>\n",
       "      <td>4090</td>\n",
       "    </tr>\n",
       "    <tr>\n",
       "      <th>2</th>\n",
       "      <td>Algeria</td>\n",
       "      <td>27.3</td>\n",
       "      <td>38.4</td>\n",
       "      <td>4.17</td>\n",
       "      <td>31.4</td>\n",
       "      <td>12900</td>\n",
       "      <td>16.10</td>\n",
       "      <td>76.5</td>\n",
       "      <td>2.89</td>\n",
       "      <td>4460</td>\n",
       "    </tr>\n",
       "    <tr>\n",
       "      <th>3</th>\n",
       "      <td>Angola</td>\n",
       "      <td>119.0</td>\n",
       "      <td>62.3</td>\n",
       "      <td>2.85</td>\n",
       "      <td>42.9</td>\n",
       "      <td>5900</td>\n",
       "      <td>22.40</td>\n",
       "      <td>60.1</td>\n",
       "      <td>6.16</td>\n",
       "      <td>3530</td>\n",
       "    </tr>\n",
       "    <tr>\n",
       "      <th>4</th>\n",
       "      <td>Antigua and Barbuda</td>\n",
       "      <td>10.3</td>\n",
       "      <td>45.5</td>\n",
       "      <td>6.03</td>\n",
       "      <td>58.9</td>\n",
       "      <td>19100</td>\n",
       "      <td>1.44</td>\n",
       "      <td>76.8</td>\n",
       "      <td>2.13</td>\n",
       "      <td>12200</td>\n",
       "    </tr>\n",
       "  </tbody>\n",
       "</table>\n",
       "</div>"
      ],
      "text/plain": [
       "               country  child_mort  exports  health  imports  income  \\\n",
       "0          Afghanistan        90.2     10.0    7.58     44.9    1610   \n",
       "1              Albania        16.6     28.0    6.55     48.6    9930   \n",
       "2              Algeria        27.3     38.4    4.17     31.4   12900   \n",
       "3               Angola       119.0     62.3    2.85     42.9    5900   \n",
       "4  Antigua and Barbuda        10.3     45.5    6.03     58.9   19100   \n",
       "\n",
       "   inflation  life_expec  total_fer   gdpp  \n",
       "0       9.44        56.2       5.82    553  \n",
       "1       4.49        76.3       1.65   4090  \n",
       "2      16.10        76.5       2.89   4460  \n",
       "3      22.40        60.1       6.16   3530  \n",
       "4       1.44        76.8       2.13  12200  "
      ]
     },
     "execution_count": 60,
     "metadata": {},
     "output_type": "execute_result"
    }
   ],
   "source": [
    "country_data = pd.read_csv(\"Country-data.csv\")\n",
    "country_data.head()"
   ]
  },
  {
   "cell_type": "code",
   "execution_count": 61,
   "metadata": {},
   "outputs": [],
   "source": [
    "#binning\n",
    "final = pd.DataFrame(country_data.loc[(country_data['child_mort'] >= 50) & (country_data['health'] <= 10)  & (country_data['inflation'] >= 10) & (country_data['life_expec'] >= 55) & (country_data['imports'] >= 20) & (country_data['total_fer'] >= 2) & (country_data['gdpp'] <= 3000)])"
   ]
  },
  {
   "cell_type": "code",
   "execution_count": 62,
   "metadata": {},
   "outputs": [
    {
     "data": {
      "text/html": [
       "<div>\n",
       "<style scoped>\n",
       "    .dataframe tbody tr th:only-of-type {\n",
       "        vertical-align: middle;\n",
       "    }\n",
       "\n",
       "    .dataframe tbody tr th {\n",
       "        vertical-align: top;\n",
       "    }\n",
       "\n",
       "    .dataframe thead th {\n",
       "        text-align: right;\n",
       "    }\n",
       "</style>\n",
       "<table border=\"1\" class=\"dataframe\">\n",
       "  <thead>\n",
       "    <tr style=\"text-align: right;\">\n",
       "      <th></th>\n",
       "      <th>country</th>\n",
       "      <th>child_mort</th>\n",
       "      <th>exports</th>\n",
       "      <th>health</th>\n",
       "      <th>imports</th>\n",
       "      <th>income</th>\n",
       "      <th>inflation</th>\n",
       "      <th>life_expec</th>\n",
       "      <th>total_fer</th>\n",
       "      <th>gdpp</th>\n",
       "    </tr>\n",
       "  </thead>\n",
       "  <tbody>\n",
       "    <tr>\n",
       "      <th>37</th>\n",
       "      <td>Congo, Dem. Rep.</td>\n",
       "      <td>116.0</td>\n",
       "      <td>41.10</td>\n",
       "      <td>7.91</td>\n",
       "      <td>49.6</td>\n",
       "      <td>609</td>\n",
       "      <td>20.8</td>\n",
       "      <td>57.5</td>\n",
       "      <td>6.54</td>\n",
       "      <td>334</td>\n",
       "    </tr>\n",
       "    <tr>\n",
       "      <th>38</th>\n",
       "      <td>Congo, Rep.</td>\n",
       "      <td>63.9</td>\n",
       "      <td>85.10</td>\n",
       "      <td>2.46</td>\n",
       "      <td>54.7</td>\n",
       "      <td>5190</td>\n",
       "      <td>20.7</td>\n",
       "      <td>60.4</td>\n",
       "      <td>4.95</td>\n",
       "      <td>2740</td>\n",
       "    </tr>\n",
       "    <tr>\n",
       "      <th>50</th>\n",
       "      <td>Eritrea</td>\n",
       "      <td>55.2</td>\n",
       "      <td>4.79</td>\n",
       "      <td>2.66</td>\n",
       "      <td>23.3</td>\n",
       "      <td>1420</td>\n",
       "      <td>11.6</td>\n",
       "      <td>61.7</td>\n",
       "      <td>4.61</td>\n",
       "      <td>482</td>\n",
       "    </tr>\n",
       "    <tr>\n",
       "      <th>59</th>\n",
       "      <td>Ghana</td>\n",
       "      <td>74.7</td>\n",
       "      <td>29.50</td>\n",
       "      <td>5.22</td>\n",
       "      <td>45.9</td>\n",
       "      <td>3060</td>\n",
       "      <td>16.6</td>\n",
       "      <td>62.2</td>\n",
       "      <td>4.27</td>\n",
       "      <td>1310</td>\n",
       "    </tr>\n",
       "    <tr>\n",
       "      <th>63</th>\n",
       "      <td>Guinea</td>\n",
       "      <td>109.0</td>\n",
       "      <td>30.30</td>\n",
       "      <td>4.93</td>\n",
       "      <td>43.2</td>\n",
       "      <td>1190</td>\n",
       "      <td>16.1</td>\n",
       "      <td>58.0</td>\n",
       "      <td>5.34</td>\n",
       "      <td>648</td>\n",
       "    </tr>\n",
       "    <tr>\n",
       "      <th>99</th>\n",
       "      <td>Mauritania</td>\n",
       "      <td>97.4</td>\n",
       "      <td>50.70</td>\n",
       "      <td>4.41</td>\n",
       "      <td>61.2</td>\n",
       "      <td>3320</td>\n",
       "      <td>18.9</td>\n",
       "      <td>68.2</td>\n",
       "      <td>4.98</td>\n",
       "      <td>1200</td>\n",
       "    </tr>\n",
       "    <tr>\n",
       "      <th>146</th>\n",
       "      <td>Tajikistan</td>\n",
       "      <td>52.4</td>\n",
       "      <td>14.90</td>\n",
       "      <td>5.98</td>\n",
       "      <td>58.6</td>\n",
       "      <td>2110</td>\n",
       "      <td>12.5</td>\n",
       "      <td>69.6</td>\n",
       "      <td>3.51</td>\n",
       "      <td>738</td>\n",
       "    </tr>\n",
       "    <tr>\n",
       "      <th>155</th>\n",
       "      <td>Uganda</td>\n",
       "      <td>81.0</td>\n",
       "      <td>17.10</td>\n",
       "      <td>9.01</td>\n",
       "      <td>28.6</td>\n",
       "      <td>1540</td>\n",
       "      <td>10.6</td>\n",
       "      <td>56.8</td>\n",
       "      <td>6.15</td>\n",
       "      <td>595</td>\n",
       "    </tr>\n",
       "    <tr>\n",
       "      <th>165</th>\n",
       "      <td>Yemen</td>\n",
       "      <td>56.3</td>\n",
       "      <td>30.00</td>\n",
       "      <td>5.18</td>\n",
       "      <td>34.4</td>\n",
       "      <td>4480</td>\n",
       "      <td>23.6</td>\n",
       "      <td>67.5</td>\n",
       "      <td>4.67</td>\n",
       "      <td>1310</td>\n",
       "    </tr>\n",
       "  </tbody>\n",
       "</table>\n",
       "</div>"
      ],
      "text/plain": [
       "              country  child_mort  exports  health  imports  income  \\\n",
       "37   Congo, Dem. Rep.       116.0    41.10    7.91     49.6     609   \n",
       "38        Congo, Rep.        63.9    85.10    2.46     54.7    5190   \n",
       "50            Eritrea        55.2     4.79    2.66     23.3    1420   \n",
       "59              Ghana        74.7    29.50    5.22     45.9    3060   \n",
       "63             Guinea       109.0    30.30    4.93     43.2    1190   \n",
       "99         Mauritania        97.4    50.70    4.41     61.2    3320   \n",
       "146        Tajikistan        52.4    14.90    5.98     58.6    2110   \n",
       "155            Uganda        81.0    17.10    9.01     28.6    1540   \n",
       "165             Yemen        56.3    30.00    5.18     34.4    4480   \n",
       "\n",
       "     inflation  life_expec  total_fer  gdpp  \n",
       "37        20.8        57.5       6.54   334  \n",
       "38        20.7        60.4       4.95  2740  \n",
       "50        11.6        61.7       4.61   482  \n",
       "59        16.6        62.2       4.27  1310  \n",
       "63        16.1        58.0       5.34   648  \n",
       "99        18.9        68.2       4.98  1200  \n",
       "146       12.5        69.6       3.51   738  \n",
       "155       10.6        56.8       6.15   595  \n",
       "165       23.6        67.5       4.67  1310  "
      ]
     },
     "execution_count": 62,
     "metadata": {},
     "output_type": "execute_result"
    }
   ],
   "source": [
    "final"
   ]
  },
  {
   "cell_type": "markdown",
   "metadata": {},
   "source": [
    "These are the countries in requirement of funds\n",
    "CLuster 1 is a cluster having high mortality rate,low exports and import,lower health and lower income"
   ]
  },
  {
   "cell_type": "markdown",
   "metadata": {},
   "source": [
    "# Heirarchical Clustering"
   ]
  },
  {
   "cell_type": "code",
   "execution_count": 63,
   "metadata": {},
   "outputs": [
    {
     "data": {
      "image/png": "[encoded data removed]",
      "text/plain": [
       "<Figure size 432x288 with 1 Axes>"
      ]
     },
     "metadata": {
      "needs_background": "light"
     },
     "output_type": "display_data"
    }
   ],
   "source": [
    "\n",
    "# heirarchical clustering\n",
    "mergings = linkage(dat3_2, method = \"single\", metric='euclidean')\n",
    "dendrogram(mergings)\n",
    "plt.show()"
   ]
  },
  {
   "cell_type": "code",
   "execution_count": 64,
   "metadata": {},
   "outputs": [
    {
     "data": {
      "image/png": "[encoded data removed]",
      "text/plain": [
       "<Figure size 432x288 with 1 Axes>"
      ]
     },
     "metadata": {
      "needs_background": "light"
     },
     "output_type": "display_data"
    }
   ],
   "source": [
    "mergings = linkage(dat3_2, method = \"complete\", metric='euclidean')\n",
    "dendrogram(mergings)\n",
    "plt.show()"
   ]
  },
  {
   "cell_type": "code",
   "execution_count": 65,
   "metadata": {},
   "outputs": [],
   "source": [
    "country_data1 = country_data.drop(['country'],axis = 1)"
   ]
  },
  {
   "cell_type": "code",
   "execution_count": 66,
   "metadata": {},
   "outputs": [],
   "source": [
    "clusterCut = pd.Series(cut_tree(mergings, n_clusters = 5).reshape(-1,))\n",
    "RFM_hc = pd.concat([country_data1, clusterCut], axis=1)\n",
    "RFM_hc.columns = [\"ClusterID\",\"child_mort\",\"exports\",\"health\",\"imports\",\"income\",\"inflation\",\"life_expec\",\"total_fer\",\"gdpp\"]"
   ]
  },
  {
   "cell_type": "code",
   "execution_count": 67,
   "metadata": {},
   "outputs": [],
   "source": [
    "clu_child_mort = \tpd.DataFrame(dat6.groupby([\"ClusterID\"]).child_mort.mean())\n",
    "clu_exports= \tpd.DataFrame(dat6.groupby([\"ClusterID\"]).exports.mean())\n",
    "clu_health = \tpd.DataFrame(dat6.groupby([\"ClusterID\"]).health.mean())\n",
    "clu_imports = \tpd.DataFrame(dat6.groupby([\"ClusterID\"]).imports.mean())\n",
    "clu_income = \tpd.DataFrame(dat6.groupby([\"ClusterID\"]).income.mean())\n",
    "clu_inflation = \tpd.DataFrame(dat6.groupby([\"ClusterID\"]).inflation.mean())\n",
    "clu_life_expec = \tpd.DataFrame(dat6.groupby([\"ClusterID\"]).life_expec.mean())\n",
    "clu_total_fer = \tpd.DataFrame(dat6.groupby([\"ClusterID\"]).total_fer.mean())\n",
    "clu_gdpp = \tpd.DataFrame(dat6.groupby([\"ClusterID\"]).gdpp.mean())"
   ]
  },
  {
   "cell_type": "code",
   "execution_count": 68,
   "metadata": {},
   "outputs": [],
   "source": [
    "df = pd.concat([pd.Series([0,1,2]),clu_child_mort,clu_exports,clu_health,clu_imports,clu_income,clu_inflation,clu_life_expec,clu_total_fer,clu_gdpp], axis=1)"
   ]
  },
  {
   "cell_type": "code",
   "execution_count": 69,
   "metadata": {},
   "outputs": [
    {
     "data": {
      "text/html": [
       "<div>\n",
       "<style scoped>\n",
       "    .dataframe tbody tr th:only-of-type {\n",
       "        vertical-align: middle;\n",
       "    }\n",
       "\n",
       "    .dataframe tbody tr th {\n",
       "        vertical-align: top;\n",
       "    }\n",
       "\n",
       "    .dataframe thead th {\n",
       "        text-align: right;\n",
       "    }\n",
       "</style>\n",
       "<table border=\"1\" class=\"dataframe\">\n",
       "  <thead>\n",
       "    <tr style=\"text-align: right;\">\n",
       "      <th></th>\n",
       "      <th>ClusterID</th>\n",
       "      <th>child_mort</th>\n",
       "      <th>exports</th>\n",
       "      <th>health</th>\n",
       "      <th>imports</th>\n",
       "      <th>income</th>\n",
       "      <th>inflation</th>\n",
       "      <th>life_expec</th>\n",
       "      <th>total_fer</th>\n",
       "      <th>gdpp</th>\n",
       "    </tr>\n",
       "  </thead>\n",
       "  <tbody>\n",
       "    <tr>\n",
       "      <th>0</th>\n",
       "      <td>0</td>\n",
       "      <td>28.743750</td>\n",
       "      <td>42.857612</td>\n",
       "      <td>6.775250</td>\n",
       "      <td>47.784574</td>\n",
       "      <td>16998.000000</td>\n",
       "      <td>8.991763</td>\n",
       "      <td>72.148750</td>\n",
       "      <td>2.564250</td>\n",
       "      <td>10837.912500</td>\n",
       "    </tr>\n",
       "    <tr>\n",
       "      <th>1</th>\n",
       "      <td>1</td>\n",
       "      <td>70.282979</td>\n",
       "      <td>33.759787</td>\n",
       "      <td>6.400000</td>\n",
       "      <td>46.114894</td>\n",
       "      <td>9184.021277</td>\n",
       "      <td>7.539064</td>\n",
       "      <td>64.114894</td>\n",
       "      <td>4.102979</td>\n",
       "      <td>7918.212766</td>\n",
       "    </tr>\n",
       "    <tr>\n",
       "      <th>2</th>\n",
       "      <td>2</td>\n",
       "      <td>16.902778</td>\n",
       "      <td>46.732778</td>\n",
       "      <td>7.571667</td>\n",
       "      <td>46.594444</td>\n",
       "      <td>28970.111111</td>\n",
       "      <td>3.619139</td>\n",
       "      <td>75.819444</td>\n",
       "      <td>2.217778</td>\n",
       "      <td>25229.027778</td>\n",
       "    </tr>\n",
       "  </tbody>\n",
       "</table>\n",
       "</div>"
      ],
      "text/plain": [
       "   ClusterID  child_mort    exports    health    imports        income  \\\n",
       "0          0   28.743750  42.857612  6.775250  47.784574  16998.000000   \n",
       "1          1   70.282979  33.759787  6.400000  46.114894   9184.021277   \n",
       "2          2   16.902778  46.732778  7.571667  46.594444  28970.111111   \n",
       "\n",
       "   inflation  life_expec  total_fer          gdpp  \n",
       "0   8.991763   72.148750   2.564250  10837.912500  \n",
       "1   7.539064   64.114894   4.102979   7918.212766  \n",
       "2   3.619139   75.819444   2.217778  25229.027778  "
      ]
     },
     "execution_count": 69,
     "metadata": {},
     "output_type": "execute_result"
    }
   ],
   "source": [
    "df.columns = [\"ClusterID\",\"child_mort\",\"exports\",\"health\",\"imports\",\"income\",\"inflation\",\"life_expec\",\"total_fer\",\"gdpp\"]\n",
    "df"
   ]
  },
  {
   "cell_type": "code",
   "execution_count": null,
   "metadata": {},
   "outputs": [],
   "source": []
  },
  {
   "cell_type": "code",
   "execution_count": 70,
   "metadata": {},
   "outputs": [
    {
     "data": {
      "text/plain": [
       "<matplotlib.axes._subplots.AxesSubplot at 0x16fc51f0160>"
      ]
     },
     "execution_count": 70,
     "metadata": {},
     "output_type": "execute_result"
    },
    {
     "data": {
      "image/png": "[encoded data removed]",
      "text/plain": [
       "<Figure size 432x288 with 1 Axes>"
      ]
     },
     "metadata": {
      "needs_background": "light"
     },
     "output_type": "display_data"
    }
   ],
   "source": [
    "sns.barplot(x=df.ClusterID, y=df.child_mort)"
   ]
  },
  {
   "cell_type": "code",
   "execution_count": 71,
   "metadata": {},
   "outputs": [
    {
     "data": {
      "text/plain": [
       "<matplotlib.axes._subplots.AxesSubplot at 0x16fc538e940>"
      ]
     },
     "execution_count": 71,
     "metadata": {},
     "output_type": "execute_result"
    },
    {
     "data": {
      "image/png": "[encoded data removed]",
      "text/plain": [
       "<Figure size 432x288 with 1 Axes>"
      ]
     },
     "metadata": {
      "needs_background": "light"
     },
     "output_type": "display_data"
    }
   ],
   "source": [
    "sns.barplot(x=df.ClusterID, y=df.exports)"
   ]
  },
  {
   "cell_type": "code",
   "execution_count": 72,
   "metadata": {},
   "outputs": [
    {
     "data": {
      "text/plain": [
       "<matplotlib.axes._subplots.AxesSubplot at 0x16fc54200b8>"
      ]
     },
     "execution_count": 72,
     "metadata": {},
     "output_type": "execute_result"
    },
    {
     "data": {
      "image/png": "[encoded data removed]",
      "text/plain": [
       "<Figure size 432x288 with 1 Axes>"
      ]
     },
     "metadata": {
      "needs_background": "light"
     },
     "output_type": "display_data"
    }
   ],
   "source": [
    "sns.barplot(x=df.ClusterID, y=df.health)"
   ]
  },
  {
   "cell_type": "code",
   "execution_count": 73,
   "metadata": {},
   "outputs": [
    {
     "data": {
      "text/plain": [
       "<matplotlib.axes._subplots.AxesSubplot at 0x16fc53c1c50>"
      ]
     },
     "execution_count": 73,
     "metadata": {},
     "output_type": "execute_result"
    },
    {
     "data": {
      "image/png": "[encoded data removed]",
      "text/plain": [
       "<Figure size 432x288 with 1 Axes>"
      ]
     },
     "metadata": {
      "needs_background": "light"
     },
     "output_type": "display_data"
    }
   ],
   "source": [
    "sns.barplot(x=df.ClusterID, y=df.imports)"
   ]
  },
  {
   "cell_type": "code",
   "execution_count": 74,
   "metadata": {},
   "outputs": [
    {
     "data": {
      "text/plain": [
       "<matplotlib.axes._subplots.AxesSubplot at 0x16fc54d1550>"
      ]
     },
     "execution_count": 74,
     "metadata": {},
     "output_type": "execute_result"
    },
    {
     "data": {
      "image/png": "[encoded data removed]",
      "text/plain": [
       "<Figure size 432x288 with 1 Axes>"
      ]
     },
     "metadata": {
      "needs_background": "light"
     },
     "output_type": "display_data"
    }
   ],
   "source": [
    "sns.barplot(x=df.ClusterID, y=df.income)"
   ]
  },
  {
   "cell_type": "code",
   "execution_count": 75,
   "metadata": {},
   "outputs": [
    {
     "data": {
      "text/plain": [
       "<matplotlib.axes._subplots.AxesSubplot at 0x16fc551fa20>"
      ]
     },
     "execution_count": 75,
     "metadata": {},
     "output_type": "execute_result"
    },
    {
     "data": {
      "image/png": "[encoded data removed]",
      "text/plain": [
       "<Figure size 432x288 with 1 Axes>"
      ]
     },
     "metadata": {
      "needs_background": "light"
     },
     "output_type": "display_data"
    }
   ],
   "source": [
    "sns.barplot(x=df.ClusterID, y=df.inflation)"
   ]
  },
  {
   "cell_type": "code",
   "execution_count": 76,
   "metadata": {},
   "outputs": [
    {
     "data": {
      "text/plain": [
       "<matplotlib.axes._subplots.AxesSubplot at 0x16fc557f550>"
      ]
     },
     "execution_count": 76,
     "metadata": {},
     "output_type": "execute_result"
    },
    {
     "data": {
      "image/png": "[encoded data removed]",
      "text/plain": [
       "<Figure size 432x288 with 1 Axes>"
      ]
     },
     "metadata": {
      "needs_background": "light"
     },
     "output_type": "display_data"
    }
   ],
   "source": [
    "sns.barplot(x=df.ClusterID, y=df.life_expec)"
   ]
  },
  {
   "cell_type": "markdown",
   "metadata": {},
   "source": [
    "sns.barplot(x=df.ClusterID, y=df.total_fer)"
   ]
  },
  {
   "cell_type": "code",
   "execution_count": 77,
   "metadata": {},
   "outputs": [
    {
     "data": {
      "text/plain": [
       "<matplotlib.axes._subplots.AxesSubplot at 0x16fc55df470>"
      ]
     },
     "execution_count": 77,
     "metadata": {},
     "output_type": "execute_result"
    },
    {
     "data": {
      "image/png": "[encoded data removed]",
      "text/plain": [
       "<Figure size 432x288 with 1 Axes>"
      ]
     },
     "metadata": {
      "needs_background": "light"
     },
     "output_type": "display_data"
    }
   ],
   "source": [
    "sns.barplot(x=df.ClusterID, y=df.gdpp)"
   ]
  },
  {
   "cell_type": "markdown",
   "metadata": {},
   "source": [
    "Cluster 1 is the poor performing cluster.so based on the mean values in cluster id, binning based on the values in cluster 1 can be used to find the result we are looking for the analysis"
   ]
  },
  {
   "cell_type": "code",
   "execution_count": 78,
   "metadata": {},
   "outputs": [],
   "source": [
    "final = pd.DataFrame(country_data.loc[(country_data['child_mort'] >= 50) & (country_data['health'] <= 10)  & (country_data['inflation'] >= 10) & (country_data['life_expec'] >= 55) & (country_data['imports'] >= 20) & (country_data['total_fer'] >= 2) & (country_data['gdpp'] <= 3000)])"
   ]
  },
  {
   "cell_type": "code",
   "execution_count": 79,
   "metadata": {},
   "outputs": [
    {
     "data": {
      "text/html": [
       "<div>\n",
       "<style scoped>\n",
       "    .dataframe tbody tr th:only-of-type {\n",
       "        vertical-align: middle;\n",
       "    }\n",
       "\n",
       "    .dataframe tbody tr th {\n",
       "        vertical-align: top;\n",
       "    }\n",
       "\n",
       "    .dataframe thead th {\n",
       "        text-align: right;\n",
       "    }\n",
       "</style>\n",
       "<table border=\"1\" class=\"dataframe\">\n",
       "  <thead>\n",
       "    <tr style=\"text-align: right;\">\n",
       "      <th></th>\n",
       "      <th>country</th>\n",
       "      <th>child_mort</th>\n",
       "      <th>exports</th>\n",
       "      <th>health</th>\n",
       "      <th>imports</th>\n",
       "      <th>income</th>\n",
       "      <th>inflation</th>\n",
       "      <th>life_expec</th>\n",
       "      <th>total_fer</th>\n",
       "      <th>gdpp</th>\n",
       "    </tr>\n",
       "  </thead>\n",
       "  <tbody>\n",
       "    <tr>\n",
       "      <th>37</th>\n",
       "      <td>Congo, Dem. Rep.</td>\n",
       "      <td>116.0</td>\n",
       "      <td>41.10</td>\n",
       "      <td>7.91</td>\n",
       "      <td>49.6</td>\n",
       "      <td>609</td>\n",
       "      <td>20.8</td>\n",
       "      <td>57.5</td>\n",
       "      <td>6.54</td>\n",
       "      <td>334</td>\n",
       "    </tr>\n",
       "    <tr>\n",
       "      <th>38</th>\n",
       "      <td>Congo, Rep.</td>\n",
       "      <td>63.9</td>\n",
       "      <td>85.10</td>\n",
       "      <td>2.46</td>\n",
       "      <td>54.7</td>\n",
       "      <td>5190</td>\n",
       "      <td>20.7</td>\n",
       "      <td>60.4</td>\n",
       "      <td>4.95</td>\n",
       "      <td>2740</td>\n",
       "    </tr>\n",
       "    <tr>\n",
       "      <th>50</th>\n",
       "      <td>Eritrea</td>\n",
       "      <td>55.2</td>\n",
       "      <td>4.79</td>\n",
       "      <td>2.66</td>\n",
       "      <td>23.3</td>\n",
       "      <td>1420</td>\n",
       "      <td>11.6</td>\n",
       "      <td>61.7</td>\n",
       "      <td>4.61</td>\n",
       "      <td>482</td>\n",
       "    </tr>\n",
       "    <tr>\n",
       "      <th>59</th>\n",
       "      <td>Ghana</td>\n",
       "      <td>74.7</td>\n",
       "      <td>29.50</td>\n",
       "      <td>5.22</td>\n",
       "      <td>45.9</td>\n",
       "      <td>3060</td>\n",
       "      <td>16.6</td>\n",
       "      <td>62.2</td>\n",
       "      <td>4.27</td>\n",
       "      <td>1310</td>\n",
       "    </tr>\n",
       "    <tr>\n",
       "      <th>63</th>\n",
       "      <td>Guinea</td>\n",
       "      <td>109.0</td>\n",
       "      <td>30.30</td>\n",
       "      <td>4.93</td>\n",
       "      <td>43.2</td>\n",
       "      <td>1190</td>\n",
       "      <td>16.1</td>\n",
       "      <td>58.0</td>\n",
       "      <td>5.34</td>\n",
       "      <td>648</td>\n",
       "    </tr>\n",
       "    <tr>\n",
       "      <th>99</th>\n",
       "      <td>Mauritania</td>\n",
       "      <td>97.4</td>\n",
       "      <td>50.70</td>\n",
       "      <td>4.41</td>\n",
       "      <td>61.2</td>\n",
       "      <td>3320</td>\n",
       "      <td>18.9</td>\n",
       "      <td>68.2</td>\n",
       "      <td>4.98</td>\n",
       "      <td>1200</td>\n",
       "    </tr>\n",
       "    <tr>\n",
       "      <th>146</th>\n",
       "      <td>Tajikistan</td>\n",
       "      <td>52.4</td>\n",
       "      <td>14.90</td>\n",
       "      <td>5.98</td>\n",
       "      <td>58.6</td>\n",
       "      <td>2110</td>\n",
       "      <td>12.5</td>\n",
       "      <td>69.6</td>\n",
       "      <td>3.51</td>\n",
       "      <td>738</td>\n",
       "    </tr>\n",
       "    <tr>\n",
       "      <th>155</th>\n",
       "      <td>Uganda</td>\n",
       "      <td>81.0</td>\n",
       "      <td>17.10</td>\n",
       "      <td>9.01</td>\n",
       "      <td>28.6</td>\n",
       "      <td>1540</td>\n",
       "      <td>10.6</td>\n",
       "      <td>56.8</td>\n",
       "      <td>6.15</td>\n",
       "      <td>595</td>\n",
       "    </tr>\n",
       "    <tr>\n",
       "      <th>165</th>\n",
       "      <td>Yemen</td>\n",
       "      <td>56.3</td>\n",
       "      <td>30.00</td>\n",
       "      <td>5.18</td>\n",
       "      <td>34.4</td>\n",
       "      <td>4480</td>\n",
       "      <td>23.6</td>\n",
       "      <td>67.5</td>\n",
       "      <td>4.67</td>\n",
       "      <td>1310</td>\n",
       "    </tr>\n",
       "  </tbody>\n",
       "</table>\n",
       "</div>"
      ],
      "text/plain": [
       "              country  child_mort  exports  health  imports  income  \\\n",
       "37   Congo, Dem. Rep.       116.0    41.10    7.91     49.6     609   \n",
       "38        Congo, Rep.        63.9    85.10    2.46     54.7    5190   \n",
       "50            Eritrea        55.2     4.79    2.66     23.3    1420   \n",
       "59              Ghana        74.7    29.50    5.22     45.9    3060   \n",
       "63             Guinea       109.0    30.30    4.93     43.2    1190   \n",
       "99         Mauritania        97.4    50.70    4.41     61.2    3320   \n",
       "146        Tajikistan        52.4    14.90    5.98     58.6    2110   \n",
       "155            Uganda        81.0    17.10    9.01     28.6    1540   \n",
       "165             Yemen        56.3    30.00    5.18     34.4    4480   \n",
       "\n",
       "     inflation  life_expec  total_fer  gdpp  \n",
       "37        20.8        57.5       6.54   334  \n",
       "38        20.7        60.4       4.95  2740  \n",
       "50        11.6        61.7       4.61   482  \n",
       "59        16.6        62.2       4.27  1310  \n",
       "63        16.1        58.0       5.34   648  \n",
       "99        18.9        68.2       4.98  1200  \n",
       "146       12.5        69.6       3.51   738  \n",
       "155       10.6        56.8       6.15   595  \n",
       "165       23.6        67.5       4.67  1310  "
      ]
     },
     "execution_count": 79,
     "metadata": {},
     "output_type": "execute_result"
    }
   ],
   "source": [
    "final"
   ]
  },
  {
   "cell_type": "markdown",
   "metadata": {},
   "source": [
    "The countries got based on the analysis using heirarchical and k means clustering gave same list of countries"
   ]
  },
  {
   "cell_type": "markdown",
   "metadata": {},
   "source": [
    "Final 5 (based on low gdp) - COngo,Eritre,Guinea,Tajikistan,Uganda and Yemen"
   ]
  },
  {
   "cell_type": "code",
   "execution_count": null,
   "metadata": {},
   "outputs": [],
   "source": []
  }
 ],
 "metadata": {
  "kernelspec": {
   "display_name": "Python 3",
   "language": "python",
   "name": "python3"
  },
  "language_info": {
   "codemirror_mode": {
    "name": "ipython",
    "version": 3
   },
   "file_extension": ".py",
   "mimetype": "text/x-python",
   "name": "python",
   "nbconvert_exporter": "python",
   "pygments_lexer": "ipython3",
   "version": "3.7.0"
  }
 },
 "nbformat": 4,
 "nbformat_minor": 2
}
